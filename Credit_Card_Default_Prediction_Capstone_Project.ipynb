{
  "nbformat": 4,
  "nbformat_minor": 0,
  "metadata": {
    "kernelspec": {
      "display_name": "Python 3",
      "language": "python",
      "name": "python3"
    },
    "language_info": {
      "codemirror_mode": {
        "name": "ipython",
        "version": 3
      },
      "file_extension": ".py",
      "mimetype": "text/x-python",
      "name": "python",
      "nbconvert_exporter": "python",
      "pygments_lexer": "ipython3",
      "version": "3.6.6"
    },
    "colab": {
      "name": "Credit Card Default Prediction - Capstone Project.ipynb",
      "provenance": [],
      "collapsed_sections": [],
      "include_colab_link": true
    }
  },
  "cells": [
    {
      "cell_type": "markdown",
      "metadata": {
        "id": "view-in-github",
        "colab_type": "text"
      },
      "source": [
        "<a href=\"https://colab.research.google.com/github/shivakumar17/Credit-Card-Default-Prediction/blob/main/Credit_Card_Default_Prediction_Capstone_Project.ipynb\" target=\"_parent\"><img src=\"https://colab.research.google.com/assets/colab-badge.svg\" alt=\"Open In Colab\"/></a>"
      ]
    },
    {
      "cell_type": "markdown",
      "metadata": {
        "id": "tOGC-qoyhJeX"
      },
      "source": [
        "# <b><u> Project Title : Predicting whether a customer will default on his/her credit card </u></b>"
      ]
    },
    {
      "cell_type": "markdown",
      "metadata": {
        "id": "Y06xIdG26kRF"
      },
      "source": [
        "## <b> Problem Description </b>\n",
        "\n",
        "### This project is aimed at predicting the case of customers default payments in Taiwan. From the perspective of risk management, the result of predictive accuracy of the estimated probability of default will be more valuable than the binary result of classification - credible or not credible clients. We can use the [K-S chart](https://www.listendata.com/2019/07/KS-Statistics-Python.html) to evaluate which customers will default on their credit card payments\n"
      ]
    },
    {
      "cell_type": "markdown",
      "metadata": {
        "id": "AlLxAtlziMbP"
      },
      "source": [
        "## <b> Data Description </b>\n",
        "\n",
        "### <b>Attribute Information: </b>\n",
        "\n",
        "### This research employed a binary variable, default payment (Yes = 1, No = 0), as the response variable. This study reviewed the literature and used the following 23 variables as explanatory variables:\n",
        "* ### X1: Amount of the given credit (NT dollar): it includes both the individual consumer credit and his/her family (supplementary) credit.\n",
        "* ### X2: Gender (1 = male; 2 = female).\n",
        "* ### X3: Education (1 = graduate school; 2 = university; 3 = high school; 4 = others).\n",
        "* ### X4: Marital status (1 = married; 2 = single; 3 = others).\n",
        "* ### X5: Age (year).\n",
        "* ### X6 - X11: History of past payment. We tracked the past monthly payment records (from April to September, 2005) as follows: X6 = the repayment status in September, 2005; X7 = the repayment status in August, 2005; . . .;X11 = the repayment status in April, 2005. The measurement scale for the repayment status is: -1 = pay duly; 1 = payment delay for one month; 2 = payment delay for two months; . . .; 8 = payment delay for eight months; 9 = payment delay for nine months and above.\n",
        "* ### X12-X17: Amount of bill statement (NT dollar). X12 = amount of bill statement in September, 2005; X13 = amount of bill statement in August, 2005; . . .; X17 = amount of bill statement in April, 2005.\n",
        "* ### X18-X23: Amount of previous payment (NT dollar). X18 = amount paid in September, 2005; X19 = amount paid in August, 2005; . . .;X23 = amount paid in April, 2005."
      ]
    },
    {
      "cell_type": "code",
      "metadata": {
        "id": "m14qfbMMaWXq",
        "colab": {
          "base_uri": "https://localhost:8080/"
        },
        "outputId": "dc46c2bf-2fb0-4beb-9039-aef4399cc1b9"
      },
      "source": [
        "from google.colab import drive\n",
        "drive.mount('/content/drive')"
      ],
      "execution_count": 1,
      "outputs": [
        {
          "output_type": "stream",
          "text": [
            "Mounted at /content/drive\n"
          ],
          "name": "stdout"
        }
      ]
    },
    {
      "cell_type": "code",
      "metadata": {
        "id": "dByMsuzT8Tnw"
      },
      "source": [
        "import pandas as pd"
      ],
      "execution_count": 2,
      "outputs": []
    },
    {
      "cell_type": "code",
      "metadata": {
        "id": "uxaBxuogatCP"
      },
      "source": [
        "df=pd.read_excel('/content/drive/MyDrive/Credit Card Default Prediction/Copy of default of credit card clients.xls')"
      ],
      "execution_count": 3,
      "outputs": []
    },
    {
      "cell_type": "code",
      "metadata": {
        "id": "lywuvIlOa8Ng",
        "colab": {
          "base_uri": "https://localhost:8080/",
          "height": 295
        },
        "outputId": "ff0ec711-9fa1-444f-bcc6-4706a06d5f12"
      },
      "source": [
        "df.head()"
      ],
      "execution_count": 4,
      "outputs": [
        {
          "output_type": "execute_result",
          "data": {
            "text/html": [
              "<div>\n",
              "<style scoped>\n",
              "    .dataframe tbody tr th:only-of-type {\n",
              "        vertical-align: middle;\n",
              "    }\n",
              "\n",
              "    .dataframe tbody tr th {\n",
              "        vertical-align: top;\n",
              "    }\n",
              "\n",
              "    .dataframe thead th {\n",
              "        text-align: right;\n",
              "    }\n",
              "</style>\n",
              "<table border=\"1\" class=\"dataframe\">\n",
              "  <thead>\n",
              "    <tr style=\"text-align: right;\">\n",
              "      <th></th>\n",
              "      <th>Unnamed: 0</th>\n",
              "      <th>X1</th>\n",
              "      <th>X2</th>\n",
              "      <th>X3</th>\n",
              "      <th>X4</th>\n",
              "      <th>X5</th>\n",
              "      <th>X6</th>\n",
              "      <th>X7</th>\n",
              "      <th>X8</th>\n",
              "      <th>X9</th>\n",
              "      <th>X10</th>\n",
              "      <th>X11</th>\n",
              "      <th>X12</th>\n",
              "      <th>X13</th>\n",
              "      <th>X14</th>\n",
              "      <th>X15</th>\n",
              "      <th>X16</th>\n",
              "      <th>X17</th>\n",
              "      <th>X18</th>\n",
              "      <th>X19</th>\n",
              "      <th>X20</th>\n",
              "      <th>X21</th>\n",
              "      <th>X22</th>\n",
              "      <th>X23</th>\n",
              "      <th>Y</th>\n",
              "    </tr>\n",
              "  </thead>\n",
              "  <tbody>\n",
              "    <tr>\n",
              "      <th>0</th>\n",
              "      <td>ID</td>\n",
              "      <td>LIMIT_BAL</td>\n",
              "      <td>SEX</td>\n",
              "      <td>EDUCATION</td>\n",
              "      <td>MARRIAGE</td>\n",
              "      <td>AGE</td>\n",
              "      <td>PAY_0</td>\n",
              "      <td>PAY_2</td>\n",
              "      <td>PAY_3</td>\n",
              "      <td>PAY_4</td>\n",
              "      <td>PAY_5</td>\n",
              "      <td>PAY_6</td>\n",
              "      <td>BILL_AMT1</td>\n",
              "      <td>BILL_AMT2</td>\n",
              "      <td>BILL_AMT3</td>\n",
              "      <td>BILL_AMT4</td>\n",
              "      <td>BILL_AMT5</td>\n",
              "      <td>BILL_AMT6</td>\n",
              "      <td>PAY_AMT1</td>\n",
              "      <td>PAY_AMT2</td>\n",
              "      <td>PAY_AMT3</td>\n",
              "      <td>PAY_AMT4</td>\n",
              "      <td>PAY_AMT5</td>\n",
              "      <td>PAY_AMT6</td>\n",
              "      <td>default payment next month</td>\n",
              "    </tr>\n",
              "    <tr>\n",
              "      <th>1</th>\n",
              "      <td>1</td>\n",
              "      <td>20000</td>\n",
              "      <td>2</td>\n",
              "      <td>2</td>\n",
              "      <td>1</td>\n",
              "      <td>24</td>\n",
              "      <td>2</td>\n",
              "      <td>2</td>\n",
              "      <td>-1</td>\n",
              "      <td>-1</td>\n",
              "      <td>-2</td>\n",
              "      <td>-2</td>\n",
              "      <td>3913</td>\n",
              "      <td>3102</td>\n",
              "      <td>689</td>\n",
              "      <td>0</td>\n",
              "      <td>0</td>\n",
              "      <td>0</td>\n",
              "      <td>0</td>\n",
              "      <td>689</td>\n",
              "      <td>0</td>\n",
              "      <td>0</td>\n",
              "      <td>0</td>\n",
              "      <td>0</td>\n",
              "      <td>1</td>\n",
              "    </tr>\n",
              "    <tr>\n",
              "      <th>2</th>\n",
              "      <td>2</td>\n",
              "      <td>120000</td>\n",
              "      <td>2</td>\n",
              "      <td>2</td>\n",
              "      <td>2</td>\n",
              "      <td>26</td>\n",
              "      <td>-1</td>\n",
              "      <td>2</td>\n",
              "      <td>0</td>\n",
              "      <td>0</td>\n",
              "      <td>0</td>\n",
              "      <td>2</td>\n",
              "      <td>2682</td>\n",
              "      <td>1725</td>\n",
              "      <td>2682</td>\n",
              "      <td>3272</td>\n",
              "      <td>3455</td>\n",
              "      <td>3261</td>\n",
              "      <td>0</td>\n",
              "      <td>1000</td>\n",
              "      <td>1000</td>\n",
              "      <td>1000</td>\n",
              "      <td>0</td>\n",
              "      <td>2000</td>\n",
              "      <td>1</td>\n",
              "    </tr>\n",
              "    <tr>\n",
              "      <th>3</th>\n",
              "      <td>3</td>\n",
              "      <td>90000</td>\n",
              "      <td>2</td>\n",
              "      <td>2</td>\n",
              "      <td>2</td>\n",
              "      <td>34</td>\n",
              "      <td>0</td>\n",
              "      <td>0</td>\n",
              "      <td>0</td>\n",
              "      <td>0</td>\n",
              "      <td>0</td>\n",
              "      <td>0</td>\n",
              "      <td>29239</td>\n",
              "      <td>14027</td>\n",
              "      <td>13559</td>\n",
              "      <td>14331</td>\n",
              "      <td>14948</td>\n",
              "      <td>15549</td>\n",
              "      <td>1518</td>\n",
              "      <td>1500</td>\n",
              "      <td>1000</td>\n",
              "      <td>1000</td>\n",
              "      <td>1000</td>\n",
              "      <td>5000</td>\n",
              "      <td>0</td>\n",
              "    </tr>\n",
              "    <tr>\n",
              "      <th>4</th>\n",
              "      <td>4</td>\n",
              "      <td>50000</td>\n",
              "      <td>2</td>\n",
              "      <td>2</td>\n",
              "      <td>1</td>\n",
              "      <td>37</td>\n",
              "      <td>0</td>\n",
              "      <td>0</td>\n",
              "      <td>0</td>\n",
              "      <td>0</td>\n",
              "      <td>0</td>\n",
              "      <td>0</td>\n",
              "      <td>46990</td>\n",
              "      <td>48233</td>\n",
              "      <td>49291</td>\n",
              "      <td>28314</td>\n",
              "      <td>28959</td>\n",
              "      <td>29547</td>\n",
              "      <td>2000</td>\n",
              "      <td>2019</td>\n",
              "      <td>1200</td>\n",
              "      <td>1100</td>\n",
              "      <td>1069</td>\n",
              "      <td>1000</td>\n",
              "      <td>0</td>\n",
              "    </tr>\n",
              "  </tbody>\n",
              "</table>\n",
              "</div>"
            ],
            "text/plain": [
              "  Unnamed: 0         X1   X2  ...       X22       X23                           Y\n",
              "0         ID  LIMIT_BAL  SEX  ...  PAY_AMT5  PAY_AMT6  default payment next month\n",
              "1          1      20000    2  ...         0         0                           1\n",
              "2          2     120000    2  ...         0      2000                           1\n",
              "3          3      90000    2  ...      1000      5000                           0\n",
              "4          4      50000    2  ...      1069      1000                           0\n",
              "\n",
              "[5 rows x 25 columns]"
            ]
          },
          "metadata": {
            "tags": []
          },
          "execution_count": 4
        }
      ]
    },
    {
      "cell_type": "code",
      "metadata": {
        "id": "OBHLkaKKbQ9r",
        "colab": {
          "base_uri": "https://localhost:8080/"
        },
        "outputId": "dd09ec60-8b5a-406c-9189-609fdc8e171f"
      },
      "source": [
        "df.info()"
      ],
      "execution_count": 5,
      "outputs": [
        {
          "output_type": "stream",
          "text": [
            "<class 'pandas.core.frame.DataFrame'>\n",
            "RangeIndex: 30001 entries, 0 to 30000\n",
            "Data columns (total 25 columns):\n",
            " #   Column      Non-Null Count  Dtype \n",
            "---  ------      --------------  ----- \n",
            " 0   Unnamed: 0  30001 non-null  object\n",
            " 1   X1          30001 non-null  object\n",
            " 2   X2          30001 non-null  object\n",
            " 3   X3          30001 non-null  object\n",
            " 4   X4          30001 non-null  object\n",
            " 5   X5          30001 non-null  object\n",
            " 6   X6          30001 non-null  object\n",
            " 7   X7          30001 non-null  object\n",
            " 8   X8          30001 non-null  object\n",
            " 9   X9          30001 non-null  object\n",
            " 10  X10         30001 non-null  object\n",
            " 11  X11         30001 non-null  object\n",
            " 12  X12         30001 non-null  object\n",
            " 13  X13         30001 non-null  object\n",
            " 14  X14         30001 non-null  object\n",
            " 15  X15         30001 non-null  object\n",
            " 16  X16         30001 non-null  object\n",
            " 17  X17         30001 non-null  object\n",
            " 18  X18         30001 non-null  object\n",
            " 19  X19         30001 non-null  object\n",
            " 20  X20         30001 non-null  object\n",
            " 21  X21         30001 non-null  object\n",
            " 22  X22         30001 non-null  object\n",
            " 23  X23         30001 non-null  object\n",
            " 24  Y           30001 non-null  object\n",
            "dtypes: object(25)\n",
            "memory usage: 5.7+ MB\n"
          ],
          "name": "stdout"
        }
      ]
    },
    {
      "cell_type": "code",
      "metadata": {
        "id": "HWJxG0JvbZS2",
        "colab": {
          "base_uri": "https://localhost:8080/"
        },
        "outputId": "bdb379bc-5dba-488a-cc97-a550934ef906"
      },
      "source": [
        "k=df.loc[0]\n",
        "k\n"
      ],
      "execution_count": 6,
      "outputs": [
        {
          "output_type": "execute_result",
          "data": {
            "text/plain": [
              "Unnamed: 0                            ID\n",
              "X1                             LIMIT_BAL\n",
              "X2                                   SEX\n",
              "X3                             EDUCATION\n",
              "X4                              MARRIAGE\n",
              "X5                                   AGE\n",
              "X6                                 PAY_0\n",
              "X7                                 PAY_2\n",
              "X8                                 PAY_3\n",
              "X9                                 PAY_4\n",
              "X10                                PAY_5\n",
              "X11                                PAY_6\n",
              "X12                            BILL_AMT1\n",
              "X13                            BILL_AMT2\n",
              "X14                            BILL_AMT3\n",
              "X15                            BILL_AMT4\n",
              "X16                            BILL_AMT5\n",
              "X17                            BILL_AMT6\n",
              "X18                             PAY_AMT1\n",
              "X19                             PAY_AMT2\n",
              "X20                             PAY_AMT3\n",
              "X21                             PAY_AMT4\n",
              "X22                             PAY_AMT5\n",
              "X23                             PAY_AMT6\n",
              "Y             default payment next month\n",
              "Name: 0, dtype: object"
            ]
          },
          "metadata": {
            "tags": []
          },
          "execution_count": 6
        }
      ]
    },
    {
      "cell_type": "code",
      "metadata": {
        "id": "2ysrcZjkcFOO"
      },
      "source": [
        "j=0\n",
        "for i in df.columns:\n",
        "  df.rename(columns={i:k[j]},inplace=True)\n",
        "  j=j+1"
      ],
      "execution_count": 7,
      "outputs": []
    },
    {
      "cell_type": "code",
      "metadata": {
        "id": "Q4t2lcYWdC5m",
        "colab": {
          "base_uri": "https://localhost:8080/",
          "height": 330
        },
        "outputId": "b5265f44-fb8b-4449-9ebb-2765fbc6d4ef"
      },
      "source": [
        "df.head()"
      ],
      "execution_count": 8,
      "outputs": [
        {
          "output_type": "execute_result",
          "data": {
            "text/html": [
              "<div>\n",
              "<style scoped>\n",
              "    .dataframe tbody tr th:only-of-type {\n",
              "        vertical-align: middle;\n",
              "    }\n",
              "\n",
              "    .dataframe tbody tr th {\n",
              "        vertical-align: top;\n",
              "    }\n",
              "\n",
              "    .dataframe thead th {\n",
              "        text-align: right;\n",
              "    }\n",
              "</style>\n",
              "<table border=\"1\" class=\"dataframe\">\n",
              "  <thead>\n",
              "    <tr style=\"text-align: right;\">\n",
              "      <th></th>\n",
              "      <th>ID</th>\n",
              "      <th>LIMIT_BAL</th>\n",
              "      <th>SEX</th>\n",
              "      <th>EDUCATION</th>\n",
              "      <th>MARRIAGE</th>\n",
              "      <th>AGE</th>\n",
              "      <th>PAY_0</th>\n",
              "      <th>PAY_2</th>\n",
              "      <th>PAY_3</th>\n",
              "      <th>PAY_4</th>\n",
              "      <th>PAY_5</th>\n",
              "      <th>PAY_6</th>\n",
              "      <th>BILL_AMT1</th>\n",
              "      <th>BILL_AMT2</th>\n",
              "      <th>BILL_AMT3</th>\n",
              "      <th>BILL_AMT4</th>\n",
              "      <th>BILL_AMT5</th>\n",
              "      <th>BILL_AMT6</th>\n",
              "      <th>PAY_AMT1</th>\n",
              "      <th>PAY_AMT2</th>\n",
              "      <th>PAY_AMT3</th>\n",
              "      <th>PAY_AMT4</th>\n",
              "      <th>PAY_AMT5</th>\n",
              "      <th>PAY_AMT6</th>\n",
              "      <th>default payment next month</th>\n",
              "    </tr>\n",
              "  </thead>\n",
              "  <tbody>\n",
              "    <tr>\n",
              "      <th>0</th>\n",
              "      <td>ID</td>\n",
              "      <td>LIMIT_BAL</td>\n",
              "      <td>SEX</td>\n",
              "      <td>EDUCATION</td>\n",
              "      <td>MARRIAGE</td>\n",
              "      <td>AGE</td>\n",
              "      <td>PAY_0</td>\n",
              "      <td>PAY_2</td>\n",
              "      <td>PAY_3</td>\n",
              "      <td>PAY_4</td>\n",
              "      <td>PAY_5</td>\n",
              "      <td>PAY_6</td>\n",
              "      <td>BILL_AMT1</td>\n",
              "      <td>BILL_AMT2</td>\n",
              "      <td>BILL_AMT3</td>\n",
              "      <td>BILL_AMT4</td>\n",
              "      <td>BILL_AMT5</td>\n",
              "      <td>BILL_AMT6</td>\n",
              "      <td>PAY_AMT1</td>\n",
              "      <td>PAY_AMT2</td>\n",
              "      <td>PAY_AMT3</td>\n",
              "      <td>PAY_AMT4</td>\n",
              "      <td>PAY_AMT5</td>\n",
              "      <td>PAY_AMT6</td>\n",
              "      <td>default payment next month</td>\n",
              "    </tr>\n",
              "    <tr>\n",
              "      <th>1</th>\n",
              "      <td>1</td>\n",
              "      <td>20000</td>\n",
              "      <td>2</td>\n",
              "      <td>2</td>\n",
              "      <td>1</td>\n",
              "      <td>24</td>\n",
              "      <td>2</td>\n",
              "      <td>2</td>\n",
              "      <td>-1</td>\n",
              "      <td>-1</td>\n",
              "      <td>-2</td>\n",
              "      <td>-2</td>\n",
              "      <td>3913</td>\n",
              "      <td>3102</td>\n",
              "      <td>689</td>\n",
              "      <td>0</td>\n",
              "      <td>0</td>\n",
              "      <td>0</td>\n",
              "      <td>0</td>\n",
              "      <td>689</td>\n",
              "      <td>0</td>\n",
              "      <td>0</td>\n",
              "      <td>0</td>\n",
              "      <td>0</td>\n",
              "      <td>1</td>\n",
              "    </tr>\n",
              "    <tr>\n",
              "      <th>2</th>\n",
              "      <td>2</td>\n",
              "      <td>120000</td>\n",
              "      <td>2</td>\n",
              "      <td>2</td>\n",
              "      <td>2</td>\n",
              "      <td>26</td>\n",
              "      <td>-1</td>\n",
              "      <td>2</td>\n",
              "      <td>0</td>\n",
              "      <td>0</td>\n",
              "      <td>0</td>\n",
              "      <td>2</td>\n",
              "      <td>2682</td>\n",
              "      <td>1725</td>\n",
              "      <td>2682</td>\n",
              "      <td>3272</td>\n",
              "      <td>3455</td>\n",
              "      <td>3261</td>\n",
              "      <td>0</td>\n",
              "      <td>1000</td>\n",
              "      <td>1000</td>\n",
              "      <td>1000</td>\n",
              "      <td>0</td>\n",
              "      <td>2000</td>\n",
              "      <td>1</td>\n",
              "    </tr>\n",
              "    <tr>\n",
              "      <th>3</th>\n",
              "      <td>3</td>\n",
              "      <td>90000</td>\n",
              "      <td>2</td>\n",
              "      <td>2</td>\n",
              "      <td>2</td>\n",
              "      <td>34</td>\n",
              "      <td>0</td>\n",
              "      <td>0</td>\n",
              "      <td>0</td>\n",
              "      <td>0</td>\n",
              "      <td>0</td>\n",
              "      <td>0</td>\n",
              "      <td>29239</td>\n",
              "      <td>14027</td>\n",
              "      <td>13559</td>\n",
              "      <td>14331</td>\n",
              "      <td>14948</td>\n",
              "      <td>15549</td>\n",
              "      <td>1518</td>\n",
              "      <td>1500</td>\n",
              "      <td>1000</td>\n",
              "      <td>1000</td>\n",
              "      <td>1000</td>\n",
              "      <td>5000</td>\n",
              "      <td>0</td>\n",
              "    </tr>\n",
              "    <tr>\n",
              "      <th>4</th>\n",
              "      <td>4</td>\n",
              "      <td>50000</td>\n",
              "      <td>2</td>\n",
              "      <td>2</td>\n",
              "      <td>1</td>\n",
              "      <td>37</td>\n",
              "      <td>0</td>\n",
              "      <td>0</td>\n",
              "      <td>0</td>\n",
              "      <td>0</td>\n",
              "      <td>0</td>\n",
              "      <td>0</td>\n",
              "      <td>46990</td>\n",
              "      <td>48233</td>\n",
              "      <td>49291</td>\n",
              "      <td>28314</td>\n",
              "      <td>28959</td>\n",
              "      <td>29547</td>\n",
              "      <td>2000</td>\n",
              "      <td>2019</td>\n",
              "      <td>1200</td>\n",
              "      <td>1100</td>\n",
              "      <td>1069</td>\n",
              "      <td>1000</td>\n",
              "      <td>0</td>\n",
              "    </tr>\n",
              "  </tbody>\n",
              "</table>\n",
              "</div>"
            ],
            "text/plain": [
              "   ID  LIMIT_BAL  SEX  ...  PAY_AMT5  PAY_AMT6  default payment next month\n",
              "0  ID  LIMIT_BAL  SEX  ...  PAY_AMT5  PAY_AMT6  default payment next month\n",
              "1   1      20000    2  ...         0         0                           1\n",
              "2   2     120000    2  ...         0      2000                           1\n",
              "3   3      90000    2  ...      1000      5000                           0\n",
              "4   4      50000    2  ...      1069      1000                           0\n",
              "\n",
              "[5 rows x 25 columns]"
            ]
          },
          "metadata": {
            "tags": []
          },
          "execution_count": 8
        }
      ]
    },
    {
      "cell_type": "code",
      "metadata": {
        "id": "I3wqJWw-esgb"
      },
      "source": [
        "df.drop(index=0,inplace=True)"
      ],
      "execution_count": 9,
      "outputs": []
    },
    {
      "cell_type": "code",
      "metadata": {
        "id": "zLPVnjIqfRgW",
        "colab": {
          "base_uri": "https://localhost:8080/",
          "height": 278
        },
        "outputId": "43e04eab-192f-4187-f8c9-bd809d16113c"
      },
      "source": [
        "df.head()"
      ],
      "execution_count": 10,
      "outputs": [
        {
          "output_type": "execute_result",
          "data": {
            "text/html": [
              "<div>\n",
              "<style scoped>\n",
              "    .dataframe tbody tr th:only-of-type {\n",
              "        vertical-align: middle;\n",
              "    }\n",
              "\n",
              "    .dataframe tbody tr th {\n",
              "        vertical-align: top;\n",
              "    }\n",
              "\n",
              "    .dataframe thead th {\n",
              "        text-align: right;\n",
              "    }\n",
              "</style>\n",
              "<table border=\"1\" class=\"dataframe\">\n",
              "  <thead>\n",
              "    <tr style=\"text-align: right;\">\n",
              "      <th></th>\n",
              "      <th>ID</th>\n",
              "      <th>LIMIT_BAL</th>\n",
              "      <th>SEX</th>\n",
              "      <th>EDUCATION</th>\n",
              "      <th>MARRIAGE</th>\n",
              "      <th>AGE</th>\n",
              "      <th>PAY_0</th>\n",
              "      <th>PAY_2</th>\n",
              "      <th>PAY_3</th>\n",
              "      <th>PAY_4</th>\n",
              "      <th>PAY_5</th>\n",
              "      <th>PAY_6</th>\n",
              "      <th>BILL_AMT1</th>\n",
              "      <th>BILL_AMT2</th>\n",
              "      <th>BILL_AMT3</th>\n",
              "      <th>BILL_AMT4</th>\n",
              "      <th>BILL_AMT5</th>\n",
              "      <th>BILL_AMT6</th>\n",
              "      <th>PAY_AMT1</th>\n",
              "      <th>PAY_AMT2</th>\n",
              "      <th>PAY_AMT3</th>\n",
              "      <th>PAY_AMT4</th>\n",
              "      <th>PAY_AMT5</th>\n",
              "      <th>PAY_AMT6</th>\n",
              "      <th>default payment next month</th>\n",
              "    </tr>\n",
              "  </thead>\n",
              "  <tbody>\n",
              "    <tr>\n",
              "      <th>1</th>\n",
              "      <td>1</td>\n",
              "      <td>20000</td>\n",
              "      <td>2</td>\n",
              "      <td>2</td>\n",
              "      <td>1</td>\n",
              "      <td>24</td>\n",
              "      <td>2</td>\n",
              "      <td>2</td>\n",
              "      <td>-1</td>\n",
              "      <td>-1</td>\n",
              "      <td>-2</td>\n",
              "      <td>-2</td>\n",
              "      <td>3913</td>\n",
              "      <td>3102</td>\n",
              "      <td>689</td>\n",
              "      <td>0</td>\n",
              "      <td>0</td>\n",
              "      <td>0</td>\n",
              "      <td>0</td>\n",
              "      <td>689</td>\n",
              "      <td>0</td>\n",
              "      <td>0</td>\n",
              "      <td>0</td>\n",
              "      <td>0</td>\n",
              "      <td>1</td>\n",
              "    </tr>\n",
              "    <tr>\n",
              "      <th>2</th>\n",
              "      <td>2</td>\n",
              "      <td>120000</td>\n",
              "      <td>2</td>\n",
              "      <td>2</td>\n",
              "      <td>2</td>\n",
              "      <td>26</td>\n",
              "      <td>-1</td>\n",
              "      <td>2</td>\n",
              "      <td>0</td>\n",
              "      <td>0</td>\n",
              "      <td>0</td>\n",
              "      <td>2</td>\n",
              "      <td>2682</td>\n",
              "      <td>1725</td>\n",
              "      <td>2682</td>\n",
              "      <td>3272</td>\n",
              "      <td>3455</td>\n",
              "      <td>3261</td>\n",
              "      <td>0</td>\n",
              "      <td>1000</td>\n",
              "      <td>1000</td>\n",
              "      <td>1000</td>\n",
              "      <td>0</td>\n",
              "      <td>2000</td>\n",
              "      <td>1</td>\n",
              "    </tr>\n",
              "    <tr>\n",
              "      <th>3</th>\n",
              "      <td>3</td>\n",
              "      <td>90000</td>\n",
              "      <td>2</td>\n",
              "      <td>2</td>\n",
              "      <td>2</td>\n",
              "      <td>34</td>\n",
              "      <td>0</td>\n",
              "      <td>0</td>\n",
              "      <td>0</td>\n",
              "      <td>0</td>\n",
              "      <td>0</td>\n",
              "      <td>0</td>\n",
              "      <td>29239</td>\n",
              "      <td>14027</td>\n",
              "      <td>13559</td>\n",
              "      <td>14331</td>\n",
              "      <td>14948</td>\n",
              "      <td>15549</td>\n",
              "      <td>1518</td>\n",
              "      <td>1500</td>\n",
              "      <td>1000</td>\n",
              "      <td>1000</td>\n",
              "      <td>1000</td>\n",
              "      <td>5000</td>\n",
              "      <td>0</td>\n",
              "    </tr>\n",
              "    <tr>\n",
              "      <th>4</th>\n",
              "      <td>4</td>\n",
              "      <td>50000</td>\n",
              "      <td>2</td>\n",
              "      <td>2</td>\n",
              "      <td>1</td>\n",
              "      <td>37</td>\n",
              "      <td>0</td>\n",
              "      <td>0</td>\n",
              "      <td>0</td>\n",
              "      <td>0</td>\n",
              "      <td>0</td>\n",
              "      <td>0</td>\n",
              "      <td>46990</td>\n",
              "      <td>48233</td>\n",
              "      <td>49291</td>\n",
              "      <td>28314</td>\n",
              "      <td>28959</td>\n",
              "      <td>29547</td>\n",
              "      <td>2000</td>\n",
              "      <td>2019</td>\n",
              "      <td>1200</td>\n",
              "      <td>1100</td>\n",
              "      <td>1069</td>\n",
              "      <td>1000</td>\n",
              "      <td>0</td>\n",
              "    </tr>\n",
              "    <tr>\n",
              "      <th>5</th>\n",
              "      <td>5</td>\n",
              "      <td>50000</td>\n",
              "      <td>1</td>\n",
              "      <td>2</td>\n",
              "      <td>1</td>\n",
              "      <td>57</td>\n",
              "      <td>-1</td>\n",
              "      <td>0</td>\n",
              "      <td>-1</td>\n",
              "      <td>0</td>\n",
              "      <td>0</td>\n",
              "      <td>0</td>\n",
              "      <td>8617</td>\n",
              "      <td>5670</td>\n",
              "      <td>35835</td>\n",
              "      <td>20940</td>\n",
              "      <td>19146</td>\n",
              "      <td>19131</td>\n",
              "      <td>2000</td>\n",
              "      <td>36681</td>\n",
              "      <td>10000</td>\n",
              "      <td>9000</td>\n",
              "      <td>689</td>\n",
              "      <td>679</td>\n",
              "      <td>0</td>\n",
              "    </tr>\n",
              "  </tbody>\n",
              "</table>\n",
              "</div>"
            ],
            "text/plain": [
              "  ID LIMIT_BAL SEX  ... PAY_AMT5 PAY_AMT6 default payment next month\n",
              "1  1     20000   2  ...        0        0                          1\n",
              "2  2    120000   2  ...        0     2000                          1\n",
              "3  3     90000   2  ...     1000     5000                          0\n",
              "4  4     50000   2  ...     1069     1000                          0\n",
              "5  5     50000   1  ...      689      679                          0\n",
              "\n",
              "[5 rows x 25 columns]"
            ]
          },
          "metadata": {
            "tags": []
          },
          "execution_count": 10
        }
      ]
    },
    {
      "cell_type": "code",
      "metadata": {
        "id": "ZCzzGE_Ou7-R"
      },
      "source": [
        ""
      ],
      "execution_count": 10,
      "outputs": []
    },
    {
      "cell_type": "code",
      "metadata": {
        "id": "qKkY1y3nf3gR"
      },
      "source": [
        "import numpy as np\n",
        "import matplotlib.pyplot as plt\n",
        "import seaborn as sns"
      ],
      "execution_count": 11,
      "outputs": []
    },
    {
      "cell_type": "code",
      "metadata": {
        "id": "HCmp5e9Pg_JN",
        "colab": {
          "base_uri": "https://localhost:8080/"
        },
        "outputId": "4ceeb388-a5aa-4d67-dbdc-17655a2eaecd"
      },
      "source": [
        "df['default payment next month'].value_counts()"
      ],
      "execution_count": 12,
      "outputs": [
        {
          "output_type": "execute_result",
          "data": {
            "text/plain": [
              "0    23364\n",
              "1     6636\n",
              "Name: default payment next month, dtype: int64"
            ]
          },
          "metadata": {
            "tags": []
          },
          "execution_count": 12
        }
      ]
    },
    {
      "cell_type": "code",
      "metadata": {
        "id": "uHQwIe0NfV8z",
        "colab": {
          "base_uri": "https://localhost:8080/",
          "height": 387
        },
        "outputId": "bf5f09f3-90da-441f-9487-10bbdaea379e"
      },
      "source": [
        "sns.displot(df['default payment next month'])"
      ],
      "execution_count": 13,
      "outputs": [
        {
          "output_type": "execute_result",
          "data": {
            "text/plain": [
              "<seaborn.axisgrid.FacetGrid at 0x7f12e0961750>"
            ]
          },
          "metadata": {
            "tags": []
          },
          "execution_count": 13
        },
        {
          "output_type": "display_data",
          "data": {
            "image/png": "[encoded data removed]",
            "text/plain": [
              "<Figure size 360x360 with 1 Axes>"
            ]
          },
          "metadata": {
            "tags": [],
            "needs_background": "light"
          }
        }
      ]
    },
    {
      "cell_type": "code",
      "metadata": {
        "id": "LwfDGLxcgDCA",
        "colab": {
          "base_uri": "https://localhost:8080/"
        },
        "outputId": "bd00af88-0e32-42d6-f7c2-391f61c01497"
      },
      "source": [
        "df.info()"
      ],
      "execution_count": 14,
      "outputs": [
        {
          "output_type": "stream",
          "text": [
            "<class 'pandas.core.frame.DataFrame'>\n",
            "Int64Index: 30000 entries, 1 to 30000\n",
            "Data columns (total 25 columns):\n",
            " #   Column                      Non-Null Count  Dtype \n",
            "---  ------                      --------------  ----- \n",
            " 0   ID                          30000 non-null  object\n",
            " 1   LIMIT_BAL                   30000 non-null  object\n",
            " 2   SEX                         30000 non-null  object\n",
            " 3   EDUCATION                   30000 non-null  object\n",
            " 4   MARRIAGE                    30000 non-null  object\n",
            " 5   AGE                         30000 non-null  object\n",
            " 6   PAY_0                       30000 non-null  object\n",
            " 7   PAY_2                       30000 non-null  object\n",
            " 8   PAY_3                       30000 non-null  object\n",
            " 9   PAY_4                       30000 non-null  object\n",
            " 10  PAY_5                       30000 non-null  object\n",
            " 11  PAY_6                       30000 non-null  object\n",
            " 12  BILL_AMT1                   30000 non-null  object\n",
            " 13  BILL_AMT2                   30000 non-null  object\n",
            " 14  BILL_AMT3                   30000 non-null  object\n",
            " 15  BILL_AMT4                   30000 non-null  object\n",
            " 16  BILL_AMT5                   30000 non-null  object\n",
            " 17  BILL_AMT6                   30000 non-null  object\n",
            " 18  PAY_AMT1                    30000 non-null  object\n",
            " 19  PAY_AMT2                    30000 non-null  object\n",
            " 20  PAY_AMT3                    30000 non-null  object\n",
            " 21  PAY_AMT4                    30000 non-null  object\n",
            " 22  PAY_AMT5                    30000 non-null  object\n",
            " 23  PAY_AMT6                    30000 non-null  object\n",
            " 24  default payment next month  30000 non-null  object\n",
            "dtypes: object(25)\n",
            "memory usage: 6.0+ MB\n"
          ],
          "name": "stdout"
        }
      ]
    },
    {
      "cell_type": "code",
      "metadata": {
        "id": "j9sfrme7hntJ"
      },
      "source": [
        " c=df.columns.drop(\"ID\",'default payment next month')"
      ],
      "execution_count": 15,
      "outputs": []
    },
    {
      "cell_type": "code",
      "metadata": {
        "id": "wWeRbOxTkhFz",
        "colab": {
          "base_uri": "https://localhost:8080/",
          "height": 1000
        },
        "outputId": "5d46a845-8c10-45c4-faa0-91fa978fc0e5"
      },
      "source": [
        "for i in c:\n",
        "  sns.distplot(df[i])\n",
        "  plt.show()"
      ],
      "execution_count": 16,
      "outputs": [
        {
          "output_type": "stream",
          "text": [
            "/usr/local/lib/python3.7/dist-packages/seaborn/distributions.py:2557: FutureWarning: `distplot` is a deprecated function and will be removed in a future version. Please adapt your code to use either `displot` (a figure-level function with similar flexibility) or `histplot` (an axes-level function for histograms).\n",
            "  warnings.warn(msg, FutureWarning)\n"
          ],
          "name": "stderr"
        },
        {
          "output_type": "display_data",
          "data": {
            "image/png": "[encoded data removed]",
            "text/plain": [
              "<Figure size 432x288 with 1 Axes>"
            ]
          },
          "metadata": {
            "tags": [],
            "needs_background": "light"
          }
        },
        {
          "output_type": "stream",
          "text": [
            "/usr/local/lib/python3.7/dist-packages/seaborn/distributions.py:2557: FutureWarning: `distplot` is a deprecated function and will be removed in a future version. Please adapt your code to use either `displot` (a figure-level function with similar flexibility) or `histplot` (an axes-level function for histograms).\n",
            "  warnings.warn(msg, FutureWarning)\n"
          ],
          "name": "stderr"
        },
        {
          "output_type": "display_data",
          "data": {
            "image/png": "[encoded data removed]",
            "text/plain": [
              "<Figure size 432x288 with 1 Axes>"
            ]
          },
          "metadata": {
            "tags": [],
            "needs_background": "light"
          }
        },
        {
          "output_type": "stream",
          "text": [
            "/usr/local/lib/python3.7/dist-packages/seaborn/distributions.py:2557: FutureWarning: `distplot` is a deprecated function and will be removed in a future version. Please adapt your code to use either `displot` (a figure-level function with similar flexibility) or `histplot` (an axes-level function for histograms).\n",
            "  warnings.warn(msg, FutureWarning)\n"
          ],
          "name": "stderr"
        },
        {
          "output_type": "display_data",
          "data": {
            "image/png": "[encoded data removed]",
            "text/plain": [
              "<Figure size 432x288 with 1 Axes>"
            ]
          },
          "metadata": {
            "tags": [],
            "needs_background": "light"
          }
        },
        {
          "output_type": "stream",
          "text": [
            "/usr/local/lib/python3.7/dist-packages/seaborn/distributions.py:2557: FutureWarning: `distplot` is a deprecated function and will be removed in a future version. Please adapt your code to use either `displot` (a figure-level function with similar flexibility) or `histplot` (an axes-level function for histograms).\n",
            "  warnings.warn(msg, FutureWarning)\n"
          ],
          "name": "stderr"
        },
        {
          "output_type": "display_data",
          "data": {
            "image/png": "[encoded data removed]",
            "text/plain": [
              "<Figure size 432x288 with 1 Axes>"
            ]
          },
          "metadata": {
            "tags": [],
            "needs_background": "light"
          }
        },
        {
          "output_type": "stream",
          "text": [
            "/usr/local/lib/python3.7/dist-packages/seaborn/distributions.py:2557: FutureWarning: `distplot` is a deprecated function and will be removed in a future version. Please adapt your code to use either `displot` (a figure-level function with similar flexibility) or `histplot` (an axes-level function for histograms).\n",
            "  warnings.warn(msg, FutureWarning)\n"
          ],
          "name": "stderr"
        },
        {
          "output_type": "display_data",
          "data": {
            "image/png": "[encoded data removed]",
            "text/plain": [
              "<Figure size 432x288 with 1 Axes>"
            ]
          },
          "metadata": {
            "tags": [],
            "needs_background": "light"
          }
        },
        {
          "output_type": "stream",
          "text": [
            "/usr/local/lib/python3.7/dist-packages/seaborn/distributions.py:2557: FutureWarning: `distplot` is a deprecated function and will be removed in a future version. Please adapt your code to use either `displot` (a figure-level function with similar flexibility) or `histplot` (an axes-level function for histograms).\n",
            "  warnings.warn(msg, FutureWarning)\n"
          ],
          "name": "stderr"
        },
        {
          "output_type": "display_data",
          "data": {
            "image/png": "[encoded data removed]",
            "text/plain": [
              "<Figure size 432x288 with 1 Axes>"
            ]
          },
          "metadata": {
            "tags": [],
            "needs_background": "light"
          }
        },
        {
          "output_type": "stream",
          "text": [
            "/usr/local/lib/python3.7/dist-packages/seaborn/distributions.py:2557: FutureWarning: `distplot` is a deprecated function and will be removed in a future version. Please adapt your code to use either `displot` (a figure-level function with similar flexibility) or `histplot` (an axes-level function for histograms).\n",
            "  warnings.warn(msg, FutureWarning)\n"
          ],
          "name": "stderr"
        },
        {
          "output_type": "display_data",
          "data": {
            "image/png": "[encoded data removed]",
            "text/plain": [
              "<Figure size 432x288 with 1 Axes>"
            ]
          },
          "metadata": {
            "tags": [],
            "needs_background": "light"
          }
        },
        {
          "output_type": "stream",
          "text": [
            "/usr/local/lib/python3.7/dist-packages/seaborn/distributions.py:2557: FutureWarning: `distplot` is a deprecated function and will be removed in a future version. Please adapt your code to use either `displot` (a figure-level function with similar flexibility) or `histplot` (an axes-level function for histograms).\n",
            "  warnings.warn(msg, FutureWarning)\n"
          ],
          "name": "stderr"
        },
        {
          "output_type": "display_data",
          "data": {
            "image/png": "[encoded data removed]",
            "text/plain": [
              "<Figure size 432x288 with 1 Axes>"
            ]
          },
          "metadata": {
            "tags": [],
            "needs_background": "light"
          }
        },
        {
          "output_type": "stream",
          "text": [
            "/usr/local/lib/python3.7/dist-packages/seaborn/distributions.py:2557: FutureWarning: `distplot` is a deprecated function and will be removed in a future version. Please adapt your code to use either `displot` (a figure-level function with similar flexibility) or `histplot` (an axes-level function for histograms).\n",
            "  warnings.warn(msg, FutureWarning)\n"
          ],
          "name": "stderr"
        },
        {
          "output_type": "display_data",
          "data": {
            "image/png": "[encoded data removed]",
            "text/plain": [
              "<Figure size 432x288 with 1 Axes>"
            ]
          },
          "metadata": {
            "tags": [],
            "needs_background": "light"
          }
        },
        {
          "output_type": "stream",
          "text": [
            "/usr/local/lib/python3.7/dist-packages/seaborn/distributions.py:2557: FutureWarning: `distplot` is a deprecated function and will be removed in a future version. Please adapt your code to use either `displot` (a figure-level function with similar flexibility) or `histplot` (an axes-level function for histograms).\n",
            "  warnings.warn(msg, FutureWarning)\n"
          ],
          "name": "stderr"
        },
        {
          "output_type": "display_data",
          "data": {
            "image/png": "[encoded data removed]",
            "text/plain": [
              "<Figure size 432x288 with 1 Axes>"
            ]
          },
          "metadata": {
            "tags": [],
            "needs_background": "light"
          }
        },
        {
          "output_type": "stream",
          "text": [
            "/usr/local/lib/python3.7/dist-packages/seaborn/distributions.py:2557: FutureWarning: `distplot` is a deprecated function and will be removed in a future version. Please adapt your code to use either `displot` (a figure-level function with similar flexibility) or `histplot` (an axes-level function for histograms).\n",
            "  warnings.warn(msg, FutureWarning)\n"
          ],
          "name": "stderr"
        },
        {
          "output_type": "display_data",
          "data": {
            "image/png": "[encoded data removed]",
            "text/plain": [
              "<Figure size 432x288 with 1 Axes>"
            ]
          },
          "metadata": {
            "tags": [],
            "needs_background": "light"
          }
        },
        {
          "output_type": "stream",
          "text": [
            "/usr/local/lib/python3.7/dist-packages/seaborn/distributions.py:2557: FutureWarning: `distplot` is a deprecated function and will be removed in a future version. Please adapt your code to use either `displot` (a figure-level function with similar flexibility) or `histplot` (an axes-level function for histograms).\n",
            "  warnings.warn(msg, FutureWarning)\n"
          ],
          "name": "stderr"
        },
        {
          "output_type": "display_data",
          "data": {
            "image/png": "[encoded data removed]",
            "text/plain": [
              "<Figure size 432x288 with 1 Axes>"
            ]
          },
          "metadata": {
            "tags": [],
            "needs_background": "light"
          }
        },
        {
          "output_type": "stream",
          "text": [
            "/usr/local/lib/python3.7/dist-packages/seaborn/distributions.py:2557: FutureWarning: `distplot` is a deprecated function and will be removed in a future version. Please adapt your code to use either `displot` (a figure-level function with similar flexibility) or `histplot` (an axes-level function for histograms).\n",
            "  warnings.warn(msg, FutureWarning)\n"
          ],
          "name": "stderr"
        },
        {
          "output_type": "display_data",
          "data": {
            "image/png": "[encoded data removed]",
            "text/plain": [
              "<Figure size 432x288 with 1 Axes>"
            ]
          },
          "metadata": {
            "tags": [],
            "needs_background": "light"
          }
        },
        {
          "output_type": "stream",
          "text": [
            "/usr/local/lib/python3.7/dist-packages/seaborn/distributions.py:2557: FutureWarning: `distplot` is a deprecated function and will be removed in a future version. Please adapt your code to use either `displot` (a figure-level function with similar flexibility) or `histplot` (an axes-level function for histograms).\n",
            "  warnings.warn(msg, FutureWarning)\n"
          ],
          "name": "stderr"
        },
        {
          "output_type": "display_data",
          "data": {
            "image/png": "[encoded data removed]",
            "text/plain": [
              "<Figure size 432x288 with 1 Axes>"
            ]
          },
          "metadata": {
            "tags": [],
            "needs_background": "light"
          }
        },
        {
          "output_type": "stream",
          "text": [
            "/usr/local/lib/python3.7/dist-packages/seaborn/distributions.py:2557: FutureWarning: `distplot` is a deprecated function and will be removed in a future version. Please adapt your code to use either `displot` (a figure-level function with similar flexibility) or `histplot` (an axes-level function for histograms).\n",
            "  warnings.warn(msg, FutureWarning)\n"
          ],
          "name": "stderr"
        },
        {
          "output_type": "display_data",
          "data": {
            "image/png": "[encoded data removed]",
            "text/plain": [
              "<Figure size 432x288 with 1 Axes>"
            ]
          },
          "metadata": {
            "tags": [],
            "needs_background": "light"
          }
        },
        {
          "output_type": "stream",
          "text": [
            "/usr/local/lib/python3.7/dist-packages/seaborn/distributions.py:2557: FutureWarning: `distplot` is a deprecated function and will be removed in a future version. Please adapt your code to use either `displot` (a figure-level function with similar flexibility) or `histplot` (an axes-level function for histograms).\n",
            "  warnings.warn(msg, FutureWarning)\n"
          ],
          "name": "stderr"
        },
        {
          "output_type": "display_data",
          "data": {
            "image/png": "[encoded data removed]",
            "text/plain": [
              "<Figure size 432x288 with 1 Axes>"
            ]
          },
          "metadata": {
            "tags": [],
            "needs_background": "light"
          }
        },
        {
          "output_type": "stream",
          "text": [
            "/usr/local/lib/python3.7/dist-packages/seaborn/distributions.py:2557: FutureWarning: `distplot` is a deprecated function and will be removed in a future version. Please adapt your code to use either `displot` (a figure-level function with similar flexibility) or `histplot` (an axes-level function for histograms).\n",
            "  warnings.warn(msg, FutureWarning)\n"
          ],
          "name": "stderr"
        },
        {
          "output_type": "display_data",
          "data": {
            "image/png": "[encoded data removed]",
            "text/plain": [
              "<Figure size 432x288 with 1 Axes>"
            ]
          },
          "metadata": {
            "tags": [],
            "needs_background": "light"
          }
        },
        {
          "output_type": "stream",
          "text": [
            "/usr/local/lib/python3.7/dist-packages/seaborn/distributions.py:2557: FutureWarning: `distplot` is a deprecated function and will be removed in a future version. Please adapt your code to use either `displot` (a figure-level function with similar flexibility) or `histplot` (an axes-level function for histograms).\n",
            "  warnings.warn(msg, FutureWarning)\n"
          ],
          "name": "stderr"
        },
        {
          "output_type": "display_data",
          "data": {
            "image/png": "[encoded data removed]",
            "text/plain": [
              "<Figure size 432x288 with 1 Axes>"
            ]
          },
          "metadata": {
            "tags": [],
            "needs_background": "light"
          }
        },
        {
          "output_type": "stream",
          "text": [
            "/usr/local/lib/python3.7/dist-packages/seaborn/distributions.py:2557: FutureWarning: `distplot` is a deprecated function and will be removed in a future version. Please adapt your code to use either `displot` (a figure-level function with similar flexibility) or `histplot` (an axes-level function for histograms).\n",
            "  warnings.warn(msg, FutureWarning)\n"
          ],
          "name": "stderr"
        },
        {
          "output_type": "display_data",
          "data": {
            "image/png": "[encoded data removed]",
            "text/plain": [
              "<Figure size 432x288 with 1 Axes>"
            ]
          },
          "metadata": {
            "tags": [],
            "needs_background": "light"
          }
        },
        {
          "output_type": "stream",
          "text": [
            "/usr/local/lib/python3.7/dist-packages/seaborn/distributions.py:2557: FutureWarning: `distplot` is a deprecated function and will be removed in a future version. Please adapt your code to use either `displot` (a figure-level function with similar flexibility) or `histplot` (an axes-level function for histograms).\n",
            "  warnings.warn(msg, FutureWarning)\n"
          ],
          "name": "stderr"
        },
        {
          "output_type": "display_data",
          "data": {
            "image/png": "[encoded data removed]",
            "text/plain": [
              "<Figure size 432x288 with 1 Axes>"
            ]
          },
          "metadata": {
            "tags": [],
            "needs_background": "light"
          }
        },
        {
          "output_type": "stream",
          "text": [
            "/usr/local/lib/python3.7/dist-packages/seaborn/distributions.py:2557: FutureWarning: `distplot` is a deprecated function and will be removed in a future version. Please adapt your code to use either `displot` (a figure-level function with similar flexibility) or `histplot` (an axes-level function for histograms).\n",
            "  warnings.warn(msg, FutureWarning)\n"
          ],
          "name": "stderr"
        },
        {
          "output_type": "display_data",
          "data": {
            "image/png": "[encoded data removed]",
            "text/plain": [
              "<Figure size 432x288 with 1 Axes>"
            ]
          },
          "metadata": {
            "tags": [],
            "needs_background": "light"
          }
        },
        {
          "output_type": "stream",
          "text": [
            "/usr/local/lib/python3.7/dist-packages/seaborn/distributions.py:2557: FutureWarning: `distplot` is a deprecated function and will be removed in a future version. Please adapt your code to use either `displot` (a figure-level function with similar flexibility) or `histplot` (an axes-level function for histograms).\n",
            "  warnings.warn(msg, FutureWarning)\n"
          ],
          "name": "stderr"
        },
        {
          "output_type": "display_data",
          "data": {
            "image/png": "[encoded data removed]",
            "text/plain": [
              "<Figure size 432x288 with 1 Axes>"
            ]
          },
          "metadata": {
            "tags": [],
            "needs_background": "light"
          }
        },
        {
          "output_type": "stream",
          "text": [
            "/usr/local/lib/python3.7/dist-packages/seaborn/distributions.py:2557: FutureWarning: `distplot` is a deprecated function and will be removed in a future version. Please adapt your code to use either `displot` (a figure-level function with similar flexibility) or `histplot` (an axes-level function for histograms).\n",
            "  warnings.warn(msg, FutureWarning)\n"
          ],
          "name": "stderr"
        },
        {
          "output_type": "display_data",
          "data": {
            "image/png": "[encoded data removed]",
            "text/plain": [
              "<Figure size 432x288 with 1 Axes>"
            ]
          },
          "metadata": {
            "tags": [],
            "needs_background": "light"
          }
        },
        {
          "output_type": "stream",
          "text": [
            "/usr/local/lib/python3.7/dist-packages/seaborn/distributions.py:2557: FutureWarning: `distplot` is a deprecated function and will be removed in a future version. Please adapt your code to use either `displot` (a figure-level function with similar flexibility) or `histplot` (an axes-level function for histograms).\n",
            "  warnings.warn(msg, FutureWarning)\n"
          ],
          "name": "stderr"
        },
        {
          "output_type": "display_data",
          "data": {
            "image/png": "[encoded data removed]",
            "text/plain": [
              "<Figure size 432x288 with 1 Axes>"
            ]
          },
          "metadata": {
            "tags": [],
            "needs_background": "light"
          }
        }
      ]
    },
    {
      "cell_type": "code",
      "metadata": {
        "id": "SqKROeJxk_rm",
        "colab": {
          "base_uri": "https://localhost:8080/",
          "height": 1000
        },
        "outputId": "a736202b-510a-4a08-f769-7a9119a1a017"
      },
      "source": [
        "for i in c:\n",
        "  sns.scatterplot(df[i],df['default payment next month'])\n",
        "  plt.show()"
      ],
      "execution_count": 17,
      "outputs": [
        {
          "output_type": "stream",
          "text": [
            "/usr/local/lib/python3.7/dist-packages/seaborn/_decorators.py:43: FutureWarning: Pass the following variables as keyword args: x, y. From version 0.12, the only valid positional argument will be `data`, and passing other arguments without an explicit keyword will result in an error or misinterpretation.\n",
            "  FutureWarning\n"
          ],
          "name": "stderr"
        },
        {
          "output_type": "display_data",
          "data": {
            "image/png": "[encoded data removed]",
            "text/plain": [
              "<Figure size 432x288 with 1 Axes>"
            ]
          },
          "metadata": {
            "tags": [],
            "needs_background": "light"
          }
        },
        {
          "output_type": "stream",
          "text": [
            "/usr/local/lib/python3.7/dist-packages/seaborn/_decorators.py:43: FutureWarning: Pass the following variables as keyword args: x, y. From version 0.12, the only valid positional argument will be `data`, and passing other arguments without an explicit keyword will result in an error or misinterpretation.\n",
            "  FutureWarning\n"
          ],
          "name": "stderr"
        },
        {
          "output_type": "display_data",
          "data": {
            "image/png": "[encoded data removed]",
            "text/plain": [
              "<Figure size 432x288 with 1 Axes>"
            ]
          },
          "metadata": {
            "tags": [],
            "needs_background": "light"
          }
        },
        {
          "output_type": "stream",
          "text": [
            "/usr/local/lib/python3.7/dist-packages/seaborn/_decorators.py:43: FutureWarning: Pass the following variables as keyword args: x, y. From version 0.12, the only valid positional argument will be `data`, and passing other arguments without an explicit keyword will result in an error or misinterpretation.\n",
            "  FutureWarning\n"
          ],
          "name": "stderr"
        },
        {
          "output_type": "display_data",
          "data": {
            "image/png": "[encoded data removed]",
            "text/plain": [
              "<Figure size 432x288 with 1 Axes>"
            ]
          },
          "metadata": {
            "tags": [],
            "needs_background": "light"
          }
        },
        {
          "output_type": "stream",
          "text": [
            "/usr/local/lib/python3.7/dist-packages/seaborn/_decorators.py:43: FutureWarning: Pass the following variables as keyword args: x, y. From version 0.12, the only valid positional argument will be `data`, and passing other arguments without an explicit keyword will result in an error or misinterpretation.\n",
            "  FutureWarning\n"
          ],
          "name": "stderr"
        },
        {
          "output_type": "display_data",
          "data": {
            "image/png": "[encoded data removed]",
            "text/plain": [
              "<Figure size 432x288 with 1 Axes>"
            ]
          },
          "metadata": {
            "tags": [],
            "needs_background": "light"
          }
        },
        {
          "output_type": "stream",
          "text": [
            "/usr/local/lib/python3.7/dist-packages/seaborn/_decorators.py:43: FutureWarning: Pass the following variables as keyword args: x, y. From version 0.12, the only valid positional argument will be `data`, and passing other arguments without an explicit keyword will result in an error or misinterpretation.\n",
            "  FutureWarning\n"
          ],
          "name": "stderr"
        },
        {
          "output_type": "display_data",
          "data": {
            "image/png": "[encoded data removed]",
            "text/plain": [
              "<Figure size 432x288 with 1 Axes>"
            ]
          },
          "metadata": {
            "tags": [],
            "needs_background": "light"
          }
        },
        {
          "output_type": "stream",
          "text": [
            "/usr/local/lib/python3.7/dist-packages/seaborn/_decorators.py:43: FutureWarning: Pass the following variables as keyword args: x, y. From version 0.12, the only valid positional argument will be `data`, and passing other arguments without an explicit keyword will result in an error or misinterpretation.\n",
            "  FutureWarning\n"
          ],
          "name": "stderr"
        },
        {
          "output_type": "display_data",
          "data": {
            "image/png": "[encoded data removed]",
            "text/plain": [
              "<Figure size 432x288 with 1 Axes>"
            ]
          },
          "metadata": {
            "tags": [],
            "needs_background": "light"
          }
        },
        {
          "output_type": "stream",
          "text": [
            "/usr/local/lib/python3.7/dist-packages/seaborn/_decorators.py:43: FutureWarning: Pass the following variables as keyword args: x, y. From version 0.12, the only valid positional argument will be `data`, and passing other arguments without an explicit keyword will result in an error or misinterpretation.\n",
            "  FutureWarning\n"
          ],
          "name": "stderr"
        },
        {
          "output_type": "display_data",
          "data": {
            "image/png": "[encoded data removed]",
            "text/plain": [
              "<Figure size 432x288 with 1 Axes>"
            ]
          },
          "metadata": {
            "tags": [],
            "needs_background": "light"
          }
        },
        {
          "output_type": "stream",
          "text": [
            "/usr/local/lib/python3.7/dist-packages/seaborn/_decorators.py:43: FutureWarning: Pass the following variables as keyword args: x, y. From version 0.12, the only valid positional argument will be `data`, and passing other arguments without an explicit keyword will result in an error or misinterpretation.\n",
            "  FutureWarning\n"
          ],
          "name": "stderr"
        },
        {
          "output_type": "display_data",
          "data": {
            "image/png": "[encoded data removed]",
            "text/plain": [
              "<Figure size 432x288 with 1 Axes>"
            ]
          },
          "metadata": {
            "tags": [],
            "needs_background": "light"
          }
        },
        {
          "output_type": "stream",
          "text": [
            "/usr/local/lib/python3.7/dist-packages/seaborn/_decorators.py:43: FutureWarning: Pass the following variables as keyword args: x, y. From version 0.12, the only valid positional argument will be `data`, and passing other arguments without an explicit keyword will result in an error or misinterpretation.\n",
            "  FutureWarning\n"
          ],
          "name": "stderr"
        },
        {
          "output_type": "display_data",
          "data": {
            "image/png": "[encoded data removed]",
            "text/plain": [
              "<Figure size 432x288 with 1 Axes>"
            ]
          },
          "metadata": {
            "tags": [],
            "needs_background": "light"
          }
        },
        {
          "output_type": "stream",
          "text": [
            "/usr/local/lib/python3.7/dist-packages/seaborn/_decorators.py:43: FutureWarning: Pass the following variables as keyword args: x, y. From version 0.12, the only valid positional argument will be `data`, and passing other arguments without an explicit keyword will result in an error or misinterpretation.\n",
            "  FutureWarning\n"
          ],
          "name": "stderr"
        },
        {
          "output_type": "display_data",
          "data": {
            "image/png": "[encoded data removed]",
            "text/plain": [
              "<Figure size 432x288 with 1 Axes>"
            ]
          },
          "metadata": {
            "tags": [],
            "needs_background": "light"
          }
        },
        {
          "output_type": "stream",
          "text": [
            "/usr/local/lib/python3.7/dist-packages/seaborn/_decorators.py:43: FutureWarning: Pass the following variables as keyword args: x, y. From version 0.12, the only valid positional argument will be `data`, and passing other arguments without an explicit keyword will result in an error or misinterpretation.\n",
            "  FutureWarning\n"
          ],
          "name": "stderr"
        },
        {
          "output_type": "display_data",
          "data": {
            "image/png": "[encoded data removed]",
            "text/plain": [
              "<Figure size 432x288 with 1 Axes>"
            ]
          },
          "metadata": {
            "tags": [],
            "needs_background": "light"
          }
        },
        {
          "output_type": "stream",
          "text": [
            "/usr/local/lib/python3.7/dist-packages/seaborn/_decorators.py:43: FutureWarning: Pass the following variables as keyword args: x, y. From version 0.12, the only valid positional argument will be `data`, and passing other arguments without an explicit keyword will result in an error or misinterpretation.\n",
            "  FutureWarning\n"
          ],
          "name": "stderr"
        },
        {
          "output_type": "display_data",
          "data": {
            "image/png": "[encoded data removed]",
            "text/plain": [
              "<Figure size 432x288 with 1 Axes>"
            ]
          },
          "metadata": {
            "tags": [],
            "needs_background": "light"
          }
        },
        {
          "output_type": "stream",
          "text": [
            "/usr/local/lib/python3.7/dist-packages/seaborn/_decorators.py:43: FutureWarning: Pass the following variables as keyword args: x, y. From version 0.12, the only valid positional argument will be `data`, and passing other arguments without an explicit keyword will result in an error or misinterpretation.\n",
            "  FutureWarning\n"
          ],
          "name": "stderr"
        },
        {
          "output_type": "display_data",
          "data": {
            "image/png": "[encoded data removed]",
            "text/plain": [
              "<Figure size 432x288 with 1 Axes>"
            ]
          },
          "metadata": {
            "tags": [],
            "needs_background": "light"
          }
        },
        {
          "output_type": "stream",
          "text": [
            "/usr/local/lib/python3.7/dist-packages/seaborn/_decorators.py:43: FutureWarning: Pass the following variables as keyword args: x, y. From version 0.12, the only valid positional argument will be `data`, and passing other arguments without an explicit keyword will result in an error or misinterpretation.\n",
            "  FutureWarning\n"
          ],
          "name": "stderr"
        },
        {
          "output_type": "display_data",
          "data": {
            "image/png": "[encoded data removed]",
            "text/plain": [
              "<Figure size 432x288 with 1 Axes>"
            ]
          },
          "metadata": {
            "tags": [],
            "needs_background": "light"
          }
        },
        {
          "output_type": "stream",
          "text": [
            "/usr/local/lib/python3.7/dist-packages/seaborn/_decorators.py:43: FutureWarning: Pass the following variables as keyword args: x, y. From version 0.12, the only valid positional argument will be `data`, and passing other arguments without an explicit keyword will result in an error or misinterpretation.\n",
            "  FutureWarning\n"
          ],
          "name": "stderr"
        },
        {
          "output_type": "display_data",
          "data": {
            "image/png": "[encoded data removed]",
            "text/plain": [
              "<Figure size 432x288 with 1 Axes>"
            ]
          },
          "metadata": {
            "tags": [],
            "needs_background": "light"
          }
        },
        {
          "output_type": "stream",
          "text": [
            "/usr/local/lib/python3.7/dist-packages/seaborn/_decorators.py:43: FutureWarning: Pass the following variables as keyword args: x, y. From version 0.12, the only valid positional argument will be `data`, and passing other arguments without an explicit keyword will result in an error or misinterpretation.\n",
            "  FutureWarning\n"
          ],
          "name": "stderr"
        },
        {
          "output_type": "display_data",
          "data": {
            "image/png": "[encoded data removed]",
            "text/plain": [
              "<Figure size 432x288 with 1 Axes>"
            ]
          },
          "metadata": {
            "tags": [],
            "needs_background": "light"
          }
        },
        {
          "output_type": "stream",
          "text": [
            "/usr/local/lib/python3.7/dist-packages/seaborn/_decorators.py:43: FutureWarning: Pass the following variables as keyword args: x, y. From version 0.12, the only valid positional argument will be `data`, and passing other arguments without an explicit keyword will result in an error or misinterpretation.\n",
            "  FutureWarning\n"
          ],
          "name": "stderr"
        },
        {
          "output_type": "display_data",
          "data": {
            "image/png": "[encoded data removed]",
            "text/plain": [
              "<Figure size 432x288 with 1 Axes>"
            ]
          },
          "metadata": {
            "tags": [],
            "needs_background": "light"
          }
        },
        {
          "output_type": "stream",
          "text": [
            "/usr/local/lib/python3.7/dist-packages/seaborn/_decorators.py:43: FutureWarning: Pass the following variables as keyword args: x, y. From version 0.12, the only valid positional argument will be `data`, and passing other arguments without an explicit keyword will result in an error or misinterpretation.\n",
            "  FutureWarning\n"
          ],
          "name": "stderr"
        },
        {
          "output_type": "display_data",
          "data": {
            "image/png": "[encoded data removed]",
            "text/plain": [
              "<Figure size 432x288 with 1 Axes>"
            ]
          },
          "metadata": {
            "tags": [],
            "needs_background": "light"
          }
        },
        {
          "output_type": "stream",
          "text": [
            "/usr/local/lib/python3.7/dist-packages/seaborn/_decorators.py:43: FutureWarning: Pass the following variables as keyword args: x, y. From version 0.12, the only valid positional argument will be `data`, and passing other arguments without an explicit keyword will result in an error or misinterpretation.\n",
            "  FutureWarning\n"
          ],
          "name": "stderr"
        },
        {
          "output_type": "display_data",
          "data": {
            "image/png": "[encoded data removed]",
            "text/plain": [
              "<Figure size 432x288 with 1 Axes>"
            ]
          },
          "metadata": {
            "tags": [],
            "needs_background": "light"
          }
        },
        {
          "output_type": "stream",
          "text": [
            "/usr/local/lib/python3.7/dist-packages/seaborn/_decorators.py:43: FutureWarning: Pass the following variables as keyword args: x, y. From version 0.12, the only valid positional argument will be `data`, and passing other arguments without an explicit keyword will result in an error or misinterpretation.\n",
            "  FutureWarning\n"
          ],
          "name": "stderr"
        },
        {
          "output_type": "display_data",
          "data": {
            "image/png": "[encoded data removed]",
            "text/plain": [
              "<Figure size 432x288 with 1 Axes>"
            ]
          },
          "metadata": {
            "tags": [],
            "needs_background": "light"
          }
        },
        {
          "output_type": "stream",
          "text": [
            "/usr/local/lib/python3.7/dist-packages/seaborn/_decorators.py:43: FutureWarning: Pass the following variables as keyword args: x, y. From version 0.12, the only valid positional argument will be `data`, and passing other arguments without an explicit keyword will result in an error or misinterpretation.\n",
            "  FutureWarning\n"
          ],
          "name": "stderr"
        },
        {
          "output_type": "display_data",
          "data": {
            "image/png": "[encoded data removed]",
            "text/plain": [
              "<Figure size 432x288 with 1 Axes>"
            ]
          },
          "metadata": {
            "tags": [],
            "needs_background": "light"
          }
        },
        {
          "output_type": "stream",
          "text": [
            "/usr/local/lib/python3.7/dist-packages/seaborn/_decorators.py:43: FutureWarning: Pass the following variables as keyword args: x, y. From version 0.12, the only valid positional argument will be `data`, and passing other arguments without an explicit keyword will result in an error or misinterpretation.\n",
            "  FutureWarning\n"
          ],
          "name": "stderr"
        },
        {
          "output_type": "display_data",
          "data": {
            "image/png": "[encoded data removed]",
            "text/plain": [
              "<Figure size 432x288 with 1 Axes>"
            ]
          },
          "metadata": {
            "tags": [],
            "needs_background": "light"
          }
        },
        {
          "output_type": "stream",
          "text": [
            "/usr/local/lib/python3.7/dist-packages/seaborn/_decorators.py:43: FutureWarning: Pass the following variables as keyword args: x, y. From version 0.12, the only valid positional argument will be `data`, and passing other arguments without an explicit keyword will result in an error or misinterpretation.\n",
            "  FutureWarning\n"
          ],
          "name": "stderr"
        },
        {
          "output_type": "display_data",
          "data": {
            "image/png": "[encoded data removed]",
            "text/plain": [
              "<Figure size 432x288 with 1 Axes>"
            ]
          },
          "metadata": {
            "tags": [],
            "needs_background": "light"
          }
        },
        {
          "output_type": "stream",
          "text": [
            "/usr/local/lib/python3.7/dist-packages/seaborn/_decorators.py:43: FutureWarning: Pass the following variables as keyword args: x, y. From version 0.12, the only valid positional argument will be `data`, and passing other arguments without an explicit keyword will result in an error or misinterpretation.\n",
            "  FutureWarning\n"
          ],
          "name": "stderr"
        },
        {
          "output_type": "display_data",
          "data": {
            "image/png": "[encoded data removed]",
            "text/plain": [
              "<Figure size 432x288 with 1 Axes>"
            ]
          },
          "metadata": {
            "tags": [],
            "needs_background": "light"
          }
        }
      ]
    },
    {
      "cell_type": "code",
      "metadata": {
        "id": "NdreNC4pnimQ",
        "colab": {
          "base_uri": "https://localhost:8080/",
          "height": 278
        },
        "outputId": "40f6ef98-345a-4b92-85fa-078a19b1eada"
      },
      "source": [
        "df.head()"
      ],
      "execution_count": 18,
      "outputs": [
        {
          "output_type": "execute_result",
          "data": {
            "text/html": [
              "<div>\n",
              "<style scoped>\n",
              "    .dataframe tbody tr th:only-of-type {\n",
              "        vertical-align: middle;\n",
              "    }\n",
              "\n",
              "    .dataframe tbody tr th {\n",
              "        vertical-align: top;\n",
              "    }\n",
              "\n",
              "    .dataframe thead th {\n",
              "        text-align: right;\n",
              "    }\n",
              "</style>\n",
              "<table border=\"1\" class=\"dataframe\">\n",
              "  <thead>\n",
              "    <tr style=\"text-align: right;\">\n",
              "      <th></th>\n",
              "      <th>ID</th>\n",
              "      <th>LIMIT_BAL</th>\n",
              "      <th>SEX</th>\n",
              "      <th>EDUCATION</th>\n",
              "      <th>MARRIAGE</th>\n",
              "      <th>AGE</th>\n",
              "      <th>PAY_0</th>\n",
              "      <th>PAY_2</th>\n",
              "      <th>PAY_3</th>\n",
              "      <th>PAY_4</th>\n",
              "      <th>PAY_5</th>\n",
              "      <th>PAY_6</th>\n",
              "      <th>BILL_AMT1</th>\n",
              "      <th>BILL_AMT2</th>\n",
              "      <th>BILL_AMT3</th>\n",
              "      <th>BILL_AMT4</th>\n",
              "      <th>BILL_AMT5</th>\n",
              "      <th>BILL_AMT6</th>\n",
              "      <th>PAY_AMT1</th>\n",
              "      <th>PAY_AMT2</th>\n",
              "      <th>PAY_AMT3</th>\n",
              "      <th>PAY_AMT4</th>\n",
              "      <th>PAY_AMT5</th>\n",
              "      <th>PAY_AMT6</th>\n",
              "      <th>default payment next month</th>\n",
              "    </tr>\n",
              "  </thead>\n",
              "  <tbody>\n",
              "    <tr>\n",
              "      <th>1</th>\n",
              "      <td>1</td>\n",
              "      <td>20000</td>\n",
              "      <td>2</td>\n",
              "      <td>2</td>\n",
              "      <td>1</td>\n",
              "      <td>24</td>\n",
              "      <td>2</td>\n",
              "      <td>2</td>\n",
              "      <td>-1</td>\n",
              "      <td>-1</td>\n",
              "      <td>-2</td>\n",
              "      <td>-2</td>\n",
              "      <td>3913</td>\n",
              "      <td>3102</td>\n",
              "      <td>689</td>\n",
              "      <td>0</td>\n",
              "      <td>0</td>\n",
              "      <td>0</td>\n",
              "      <td>0</td>\n",
              "      <td>689</td>\n",
              "      <td>0</td>\n",
              "      <td>0</td>\n",
              "      <td>0</td>\n",
              "      <td>0</td>\n",
              "      <td>1</td>\n",
              "    </tr>\n",
              "    <tr>\n",
              "      <th>2</th>\n",
              "      <td>2</td>\n",
              "      <td>120000</td>\n",
              "      <td>2</td>\n",
              "      <td>2</td>\n",
              "      <td>2</td>\n",
              "      <td>26</td>\n",
              "      <td>-1</td>\n",
              "      <td>2</td>\n",
              "      <td>0</td>\n",
              "      <td>0</td>\n",
              "      <td>0</td>\n",
              "      <td>2</td>\n",
              "      <td>2682</td>\n",
              "      <td>1725</td>\n",
              "      <td>2682</td>\n",
              "      <td>3272</td>\n",
              "      <td>3455</td>\n",
              "      <td>3261</td>\n",
              "      <td>0</td>\n",
              "      <td>1000</td>\n",
              "      <td>1000</td>\n",
              "      <td>1000</td>\n",
              "      <td>0</td>\n",
              "      <td>2000</td>\n",
              "      <td>1</td>\n",
              "    </tr>\n",
              "    <tr>\n",
              "      <th>3</th>\n",
              "      <td>3</td>\n",
              "      <td>90000</td>\n",
              "      <td>2</td>\n",
              "      <td>2</td>\n",
              "      <td>2</td>\n",
              "      <td>34</td>\n",
              "      <td>0</td>\n",
              "      <td>0</td>\n",
              "      <td>0</td>\n",
              "      <td>0</td>\n",
              "      <td>0</td>\n",
              "      <td>0</td>\n",
              "      <td>29239</td>\n",
              "      <td>14027</td>\n",
              "      <td>13559</td>\n",
              "      <td>14331</td>\n",
              "      <td>14948</td>\n",
              "      <td>15549</td>\n",
              "      <td>1518</td>\n",
              "      <td>1500</td>\n",
              "      <td>1000</td>\n",
              "      <td>1000</td>\n",
              "      <td>1000</td>\n",
              "      <td>5000</td>\n",
              "      <td>0</td>\n",
              "    </tr>\n",
              "    <tr>\n",
              "      <th>4</th>\n",
              "      <td>4</td>\n",
              "      <td>50000</td>\n",
              "      <td>2</td>\n",
              "      <td>2</td>\n",
              "      <td>1</td>\n",
              "      <td>37</td>\n",
              "      <td>0</td>\n",
              "      <td>0</td>\n",
              "      <td>0</td>\n",
              "      <td>0</td>\n",
              "      <td>0</td>\n",
              "      <td>0</td>\n",
              "      <td>46990</td>\n",
              "      <td>48233</td>\n",
              "      <td>49291</td>\n",
              "      <td>28314</td>\n",
              "      <td>28959</td>\n",
              "      <td>29547</td>\n",
              "      <td>2000</td>\n",
              "      <td>2019</td>\n",
              "      <td>1200</td>\n",
              "      <td>1100</td>\n",
              "      <td>1069</td>\n",
              "      <td>1000</td>\n",
              "      <td>0</td>\n",
              "    </tr>\n",
              "    <tr>\n",
              "      <th>5</th>\n",
              "      <td>5</td>\n",
              "      <td>50000</td>\n",
              "      <td>1</td>\n",
              "      <td>2</td>\n",
              "      <td>1</td>\n",
              "      <td>57</td>\n",
              "      <td>-1</td>\n",
              "      <td>0</td>\n",
              "      <td>-1</td>\n",
              "      <td>0</td>\n",
              "      <td>0</td>\n",
              "      <td>0</td>\n",
              "      <td>8617</td>\n",
              "      <td>5670</td>\n",
              "      <td>35835</td>\n",
              "      <td>20940</td>\n",
              "      <td>19146</td>\n",
              "      <td>19131</td>\n",
              "      <td>2000</td>\n",
              "      <td>36681</td>\n",
              "      <td>10000</td>\n",
              "      <td>9000</td>\n",
              "      <td>689</td>\n",
              "      <td>679</td>\n",
              "      <td>0</td>\n",
              "    </tr>\n",
              "  </tbody>\n",
              "</table>\n",
              "</div>"
            ],
            "text/plain": [
              "  ID LIMIT_BAL SEX  ... PAY_AMT5 PAY_AMT6 default payment next month\n",
              "1  1     20000   2  ...        0        0                          1\n",
              "2  2    120000   2  ...        0     2000                          1\n",
              "3  3     90000   2  ...     1000     5000                          0\n",
              "4  4     50000   2  ...     1069     1000                          0\n",
              "5  5     50000   1  ...      689      679                          0\n",
              "\n",
              "[5 rows x 25 columns]"
            ]
          },
          "metadata": {
            "tags": []
          },
          "execution_count": 18
        }
      ]
    },
    {
      "cell_type": "code",
      "metadata": {
        "id": "kqixcK1ppXrW",
        "colab": {
          "base_uri": "https://localhost:8080/"
        },
        "outputId": "08dd3a48-27ed-4452-e9c6-b4a65fe02a4a"
      },
      "source": [
        "df.dtypes"
      ],
      "execution_count": 19,
      "outputs": [
        {
          "output_type": "execute_result",
          "data": {
            "text/plain": [
              "ID                            object\n",
              "LIMIT_BAL                     object\n",
              "SEX                           object\n",
              "EDUCATION                     object\n",
              "MARRIAGE                      object\n",
              "AGE                           object\n",
              "PAY_0                         object\n",
              "PAY_2                         object\n",
              "PAY_3                         object\n",
              "PAY_4                         object\n",
              "PAY_5                         object\n",
              "PAY_6                         object\n",
              "BILL_AMT1                     object\n",
              "BILL_AMT2                     object\n",
              "BILL_AMT3                     object\n",
              "BILL_AMT4                     object\n",
              "BILL_AMT5                     object\n",
              "BILL_AMT6                     object\n",
              "PAY_AMT1                      object\n",
              "PAY_AMT2                      object\n",
              "PAY_AMT3                      object\n",
              "PAY_AMT4                      object\n",
              "PAY_AMT5                      object\n",
              "PAY_AMT6                      object\n",
              "default payment next month    object\n",
              "dtype: object"
            ]
          },
          "metadata": {
            "tags": []
          },
          "execution_count": 19
        }
      ]
    },
    {
      "cell_type": "code",
      "metadata": {
        "id": "JMPTLg_ppbN_"
      },
      "source": [
        "df1=df.apply(pd.to_numeric)\n"
      ],
      "execution_count": 20,
      "outputs": []
    },
    {
      "cell_type": "code",
      "metadata": {
        "id": "5WGRU9xHp4Y_",
        "colab": {
          "base_uri": "https://localhost:8080/"
        },
        "outputId": "cea56e1c-4dfe-48bc-eaaa-79ac39a6163b"
      },
      "source": [
        "df1.dtypes"
      ],
      "execution_count": 21,
      "outputs": [
        {
          "output_type": "execute_result",
          "data": {
            "text/plain": [
              "ID                            int64\n",
              "LIMIT_BAL                     int64\n",
              "SEX                           int64\n",
              "EDUCATION                     int64\n",
              "MARRIAGE                      int64\n",
              "AGE                           int64\n",
              "PAY_0                         int64\n",
              "PAY_2                         int64\n",
              "PAY_3                         int64\n",
              "PAY_4                         int64\n",
              "PAY_5                         int64\n",
              "PAY_6                         int64\n",
              "BILL_AMT1                     int64\n",
              "BILL_AMT2                     int64\n",
              "BILL_AMT3                     int64\n",
              "BILL_AMT4                     int64\n",
              "BILL_AMT5                     int64\n",
              "BILL_AMT6                     int64\n",
              "PAY_AMT1                      int64\n",
              "PAY_AMT2                      int64\n",
              "PAY_AMT3                      int64\n",
              "PAY_AMT4                      int64\n",
              "PAY_AMT5                      int64\n",
              "PAY_AMT6                      int64\n",
              "default payment next month    int64\n",
              "dtype: object"
            ]
          },
          "metadata": {
            "tags": []
          },
          "execution_count": 21
        }
      ]
    },
    {
      "cell_type": "code",
      "metadata": {
        "id": "RQjsXLRzp7XI",
        "colab": {
          "base_uri": "https://localhost:8080/"
        },
        "outputId": "99129e9d-1456-4a6b-b36f-c22a599fb43d"
      },
      "source": [
        "df1.info()"
      ],
      "execution_count": 22,
      "outputs": [
        {
          "output_type": "stream",
          "text": [
            "<class 'pandas.core.frame.DataFrame'>\n",
            "Int64Index: 30000 entries, 1 to 30000\n",
            "Data columns (total 25 columns):\n",
            " #   Column                      Non-Null Count  Dtype\n",
            "---  ------                      --------------  -----\n",
            " 0   ID                          30000 non-null  int64\n",
            " 1   LIMIT_BAL                   30000 non-null  int64\n",
            " 2   SEX                         30000 non-null  int64\n",
            " 3   EDUCATION                   30000 non-null  int64\n",
            " 4   MARRIAGE                    30000 non-null  int64\n",
            " 5   AGE                         30000 non-null  int64\n",
            " 6   PAY_0                       30000 non-null  int64\n",
            " 7   PAY_2                       30000 non-null  int64\n",
            " 8   PAY_3                       30000 non-null  int64\n",
            " 9   PAY_4                       30000 non-null  int64\n",
            " 10  PAY_5                       30000 non-null  int64\n",
            " 11  PAY_6                       30000 non-null  int64\n",
            " 12  BILL_AMT1                   30000 non-null  int64\n",
            " 13  BILL_AMT2                   30000 non-null  int64\n",
            " 14  BILL_AMT3                   30000 non-null  int64\n",
            " 15  BILL_AMT4                   30000 non-null  int64\n",
            " 16  BILL_AMT5                   30000 non-null  int64\n",
            " 17  BILL_AMT6                   30000 non-null  int64\n",
            " 18  PAY_AMT1                    30000 non-null  int64\n",
            " 19  PAY_AMT2                    30000 non-null  int64\n",
            " 20  PAY_AMT3                    30000 non-null  int64\n",
            " 21  PAY_AMT4                    30000 non-null  int64\n",
            " 22  PAY_AMT5                    30000 non-null  int64\n",
            " 23  PAY_AMT6                    30000 non-null  int64\n",
            " 24  default payment next month  30000 non-null  int64\n",
            "dtypes: int64(25)\n",
            "memory usage: 6.0 MB\n"
          ],
          "name": "stdout"
        }
      ]
    },
    {
      "cell_type": "code",
      "metadata": {
        "id": "gtUQRniZnzqX"
      },
      "source": [
        "from sklearn.model_selection import train_test_split\n",
        "from sklearn.linear_model import LogisticRegression\n",
        "from sklearn.preprocessing import MinMaxScaler"
      ],
      "execution_count": 23,
      "outputs": []
    },
    {
      "cell_type": "code",
      "metadata": {
        "id": "WWpC65ppoRj5"
      },
      "source": [
        "independent=df1.columns.drop('ID','default payment next month')"
      ],
      "execution_count": 24,
      "outputs": []
    },
    {
      "cell_type": "code",
      "metadata": {
        "id": "_om6Hb6aoMNy"
      },
      "source": [
        "Xtrain,Xtest,Ytrain,Ytest=train_test_split(df1[independent],df1['default payment next month'],test_size=0.2,random_state=0)\n",
        "scale=MinMaxScaler()\n",
        "Xtrain=scale.fit_transform(Xtrain)\n",
        "Xtest=scale.fit_transform(Xtest)"
      ],
      "execution_count": 25,
      "outputs": []
    },
    {
      "cell_type": "code",
      "metadata": {
        "id": "ICdyloRao1CU",
        "colab": {
          "base_uri": "https://localhost:8080/"
        },
        "outputId": "3b089e2f-ffd7-4611-ca39-8596bb16b0be"
      },
      "source": [
        "log=LogisticRegression()\n",
        "log.fit(Xtrain,Ytrain)"
      ],
      "execution_count": 26,
      "outputs": [
        {
          "output_type": "execute_result",
          "data": {
            "text/plain": [
              "LogisticRegression(C=1.0, class_weight=None, dual=False, fit_intercept=True,\n",
              "                   intercept_scaling=1, l1_ratio=None, max_iter=100,\n",
              "                   multi_class='auto', n_jobs=None, penalty='l2',\n",
              "                   random_state=None, solver='lbfgs', tol=0.0001, verbose=0,\n",
              "                   warm_start=False)"
            ]
          },
          "metadata": {
            "tags": []
          },
          "execution_count": 26
        }
      ]
    },
    {
      "cell_type": "code",
      "metadata": {
        "id": "fYRJDVFNpD2D"
      },
      "source": [
        "from sklearn.metrics import accuracy_score,confusion_matrix,roc_auc_score"
      ],
      "execution_count": 27,
      "outputs": []
    },
    {
      "cell_type": "code",
      "metadata": {
        "id": "5nxM3_8ZqUSs"
      },
      "source": [
        "train_accuracy = accuracy_score(Ytrain,log.predict(Xtrain))\n",
        "test_accuracy = accuracy_score(Ytest,log.predict(Xtest))"
      ],
      "execution_count": 28,
      "outputs": []
    },
    {
      "cell_type": "code",
      "metadata": {
        "colab": {
          "base_uri": "https://localhost:8080/"
        },
        "id": "adpgGJ8GFZZq",
        "outputId": "26724f2d-453e-4c40-87f5-d3188ad46c68"
      },
      "source": [
        "log.predict_proba(Xtrain)"
      ],
      "execution_count": 67,
      "outputs": [
        {
          "output_type": "execute_result",
          "data": {
            "text/plain": [
              "array([[9.99193946e-01, 8.06053610e-04],\n",
              "       [9.99434152e-01, 5.65847818e-04],\n",
              "       [2.04703110e-03, 9.97952969e-01],\n",
              "       ...,\n",
              "       [9.99228725e-01, 7.71275403e-04],\n",
              "       [9.99240070e-01, 7.59929673e-04],\n",
              "       [9.99290653e-01, 7.09346777e-04]])"
            ]
          },
          "metadata": {
            "tags": []
          },
          "execution_count": 67
        }
      ]
    },
    {
      "cell_type": "code",
      "metadata": {
        "colab": {
          "base_uri": "https://localhost:8080/"
        },
        "id": "cXGc5dh6Eqle",
        "outputId": "928ba347-c7db-4701-fc86-30b20ecc6f65"
      },
      "source": [
        "p=list(log.predict_proba(Xtrain)[:,1])\n",
        "p"
      ],
      "execution_count": 78,
      "outputs": [
        {
          "output_type": "execute_result",
          "data": {
            "text/plain": [
              "[0.0008060536102685369,\n",
              " 0.0005658478180814652,\n",
              " 0.9979529689008212,\n",
              " 0.9983818669323721,\n",
              " 0.9976758388722348,\n",
              " 0.0005045611552809314,\n",
              " 0.9970262667797272,\n",
              " 0.0007205877695725132,\n",
              " 0.0006248990231144186,\n",
              " 0.000709728872133076,\n",
              " 0.000657047805698102,\n",
              " 0.0007221146826482243,\n",
              " 0.9978976810686868,\n",
              " 0.0004704140864997225,\n",
              " 0.0005860400823726653,\n",
              " 0.0006737462186927566,\n",
              " 0.0007507004027880869,\n",
              " 0.0006282533711058686,\n",
              " 0.0005986973777480769,\n",
              " 0.0007638734883073628,\n",
              " 0.0006280133288812947,\n",
              " 0.0007206678399769511,\n",
              " 0.0010908212203199525,\n",
              " 0.9971421245184601,\n",
              " 0.0004700264529907865,\n",
              " 0.0007450162480759048,\n",
              " 0.9974859170173623,\n",
              " 0.99716377183996,\n",
              " 0.9981053746535644,\n",
              " 0.0006455024718929133,\n",
              " 0.9970598175232647,\n",
              " 0.0006107718754046589,\n",
              " 0.0006679464106128828,\n",
              " 0.0006626030410030651,\n",
              " 0.0007916065188941769,\n",
              " 0.9978370591509107,\n",
              " 0.0007223962422960216,\n",
              " 0.0006742290859153274,\n",
              " 0.9983058937231555,\n",
              " 0.0007071050368365928,\n",
              " 0.9980142337352778,\n",
              " 0.0006437009626785699,\n",
              " 0.998046787069542,\n",
              " 0.0007461616010332327,\n",
              " 0.0007092155944679475,\n",
              " 0.0007857259174433995,\n",
              " 0.0005346156879324148,\n",
              " 0.0006167207760500203,\n",
              " 0.00061685334377549,\n",
              " 0.0006525419022342828,\n",
              " 0.0005647222256375001,\n",
              " 0.0007715377814047085,\n",
              " 0.9982570954437697,\n",
              " 0.00043553713294953566,\n",
              " 0.0006686738064190672,\n",
              " 0.9973173925708699,\n",
              " 0.0007985246491544814,\n",
              " 0.0006506586418826575,\n",
              " 0.0006381626393124421,\n",
              " 0.9973774752807926,\n",
              " 0.0006700467113175099,\n",
              " 0.9971823750927922,\n",
              " 0.0008260302729473406,\n",
              " 0.9977882913436847,\n",
              " 0.0007242685098376726,\n",
              " 0.0005627922287603419,\n",
              " 0.0007230208610239444,\n",
              " 0.0007157187447505226,\n",
              " 0.0007771394431819762,\n",
              " 0.9979761678269342,\n",
              " 0.0006209155858720421,\n",
              " 0.0007904359530431252,\n",
              " 0.0005112001893178373,\n",
              " 0.0006567796740198919,\n",
              " 0.0007642747671673995,\n",
              " 0.0005504306740097696,\n",
              " 0.0005636032749376831,\n",
              " 0.0006872580412061363,\n",
              " 0.9981749717647983,\n",
              " 0.9974599314488831,\n",
              " 0.998060586765706,\n",
              " 0.0008557561987912582,\n",
              " 0.0005946398600760746,\n",
              " 0.00048206159218334445,\n",
              " 0.0007748876833253954,\n",
              " 0.9968649940888831,\n",
              " 0.0007076946965408748,\n",
              " 0.0006633725372918733,\n",
              " 0.0008209731582527365,\n",
              " 0.9977597059537366,\n",
              " 0.0007690201402304911,\n",
              " 0.9978660022757254,\n",
              " 0.0007331038949240589,\n",
              " 0.0008288318624227283,\n",
              " 0.0006284923759120717,\n",
              " 0.000721533930870676,\n",
              " 0.0007106783981826335,\n",
              " 0.0009890954628850913,\n",
              " 0.0007812706633234874,\n",
              " 0.0007822491786599575,\n",
              " 0.0005478837172020495,\n",
              " 0.9965618116706909,\n",
              " 0.9974701675593048,\n",
              " 0.9977197987004381,\n",
              " 0.9975383197301029,\n",
              " 0.0005952604121469706,\n",
              " 0.9980156822136722,\n",
              " 0.0007307362938289135,\n",
              " 0.9975452607356686,\n",
              " 0.9966212451881907,\n",
              " 0.0007736604513122763,\n",
              " 0.0006384509301591316,\n",
              " 0.0007423625961964746,\n",
              " 0.000903899312156155,\n",
              " 0.0008335957465868253,\n",
              " 0.0006999192369097672,\n",
              " 0.0007536882196111595,\n",
              " 0.997502921509055,\n",
              " 0.0007322252469447193,\n",
              " 0.0007452996367547466,\n",
              " 0.0006553619416914744,\n",
              " 0.0009976039687848786,\n",
              " 0.0005999546749538497,\n",
              " 0.0006178909510963925,\n",
              " 0.0005894757824804826,\n",
              " 0.0006264431064438218,\n",
              " 0.0007586395533166508,\n",
              " 0.0008088040324050764,\n",
              " 0.0008377295722413932,\n",
              " 0.0006780428943232895,\n",
              " 0.0004888523793638545,\n",
              " 0.0007004252428355547,\n",
              " 0.9984678061946661,\n",
              " 0.0007834024477650363,\n",
              " 0.0006105015244372156,\n",
              " 0.0011185058199880825,\n",
              " 0.0006056849775746251,\n",
              " 0.0011027099782825402,\n",
              " 0.0007356983268846229,\n",
              " 0.0008546903365829331,\n",
              " 0.0008902066079700395,\n",
              " 0.0006259885142922202,\n",
              " 0.0007289608322433951,\n",
              " 0.000668539917896078,\n",
              " 0.996914576291785,\n",
              " 0.0005950152923505093,\n",
              " 0.0006723205248592125,\n",
              " 0.0006700998732958724,\n",
              " 0.0005545459993948736,\n",
              " 0.9975456032440799,\n",
              " 0.0011587044080041244,\n",
              " 0.0006374494715773016,\n",
              " 0.0006921233086756229,\n",
              " 0.0007481728007687898,\n",
              " 0.000647692183740366,\n",
              " 0.000543885304629737,\n",
              " 0.0008224741835155162,\n",
              " 0.0005794669863628489,\n",
              " 0.9976386029034052,\n",
              " 0.0007461612661162549,\n",
              " 0.0007015308969006124,\n",
              " 0.0008135512107160068,\n",
              " 0.0006168547220459034,\n",
              " 0.0007040708976341469,\n",
              " 0.998008936437041,\n",
              " 0.0007952899140633235,\n",
              " 0.0007535767775781601,\n",
              " 0.9970218772722854,\n",
              " 0.0007634166704495087,\n",
              " 0.0006890639270920075,\n",
              " 0.0007658518958041755,\n",
              " 0.0006971477582636033,\n",
              " 0.0007280754120017856,\n",
              " 0.9975416298267212,\n",
              " 0.0007021137226763195,\n",
              " 0.0006113137137373914,\n",
              " 0.0006876686728448234,\n",
              " 0.9978385700073922,\n",
              " 0.0005842205130971594,\n",
              " 0.0005733350412728767,\n",
              " 0.0007149011941472711,\n",
              " 0.9979587906883186,\n",
              " 0.9959750174573603,\n",
              " 0.9977616247078979,\n",
              " 0.0008398075988911241,\n",
              " 0.0010365971099379288,\n",
              " 0.000488687175094505,\n",
              " 0.9973595124764375,\n",
              " 0.0005935594239856848,\n",
              " 0.9972814416041924,\n",
              " 0.0007349083455893345,\n",
              " 0.0005475316528584368,\n",
              " 0.0005093729825473227,\n",
              " 0.9978266815088799,\n",
              " 0.9973421963216185,\n",
              " 0.0005682927270048767,\n",
              " 0.0006286662794339968,\n",
              " 0.9981148020849778,\n",
              " 0.0007686356846533913,\n",
              " 0.0006297980025636722,\n",
              " 0.0006973564534311053,\n",
              " 0.0007979150670097005,\n",
              " 0.0007404580107181034,\n",
              " 0.0006875214086926263,\n",
              " 0.0006708979402403885,\n",
              " 0.0005118765454578153,\n",
              " 0.0006265658065059887,\n",
              " 0.0008424344858648721,\n",
              " 0.9971455548228203,\n",
              " 0.0007798866181072336,\n",
              " 0.0008118342133658756,\n",
              " 0.9981859008178514,\n",
              " 0.0006072930247074294,\n",
              " 0.0006871461927014627,\n",
              " 0.0006475661963274091,\n",
              " 0.0006142311873890662,\n",
              " 0.0006654671485145473,\n",
              " 0.0006060775216464281,\n",
              " 0.0007849539960534176,\n",
              " 0.9975910816823157,\n",
              " 0.0006568459946286182,\n",
              " 0.0006280004461998966,\n",
              " 0.000605001652424164,\n",
              " 0.000704402737351838,\n",
              " 0.0007943720331847316,\n",
              " 0.0007672532823766782,\n",
              " 0.0006345366808884468,\n",
              " 0.0006314526251423875,\n",
              " 0.0006025644540177531,\n",
              " 0.0010380994772674576,\n",
              " 0.0006315799448506075,\n",
              " 0.0007298340117738366,\n",
              " 0.0006350240601110869,\n",
              " 0.0006170274874724055,\n",
              " 0.0006387172285246809,\n",
              " 0.9969873913984113,\n",
              " 0.0007364291245872093,\n",
              " 0.0007796908349112374,\n",
              " 0.0005345033028759821,\n",
              " 0.0007066321983883667,\n",
              " 0.0006808073416630611,\n",
              " 0.0007440138238363198,\n",
              " 0.0005418408070539903,\n",
              " 0.9977186639479059,\n",
              " 0.9969471181058429,\n",
              " 0.0007250553977493139,\n",
              " 0.0006862660696838349,\n",
              " 0.0015537192672944668,\n",
              " 0.0007988762389203219,\n",
              " 0.0006030999703684542,\n",
              " 0.000812165476949545,\n",
              " 0.0006712462191716022,\n",
              " 0.9973948809130502,\n",
              " 0.0006439034013722285,\n",
              " 0.0006148832464651833,\n",
              " 0.0006107934122773596,\n",
              " 0.9967877514211937,\n",
              " 0.9965542899043119,\n",
              " 0.0007388609849839183,\n",
              " 0.000609641205936877,\n",
              " 0.000570991010244954,\n",
              " 0.9978711319402334,\n",
              " 0.0006918937113037769,\n",
              " 0.0008347355401832426,\n",
              " 0.0005107244368573169,\n",
              " 0.0005787003754047595,\n",
              " 0.0006764570767241082,\n",
              " 0.0006673610461978472,\n",
              " 0.0006244406709823012,\n",
              " 0.9978424600250351,\n",
              " 0.0005716057354299654,\n",
              " 0.0007150710264193054,\n",
              " 0.0005345470404212119,\n",
              " 0.00072164955289437,\n",
              " 0.0007748403239569128,\n",
              " 0.0004928561529466221,\n",
              " 0.0005833602963338794,\n",
              " 0.0004910811717799081,\n",
              " 0.000627277034642273,\n",
              " 0.0008074244840906916,\n",
              " 0.0006932854117572601,\n",
              " 0.0005922559304849505,\n",
              " 0.9964434400527254,\n",
              " 0.0007401178802027442,\n",
              " 0.0006056480887098175,\n",
              " 0.000783589014492182,\n",
              " 0.9967032127085724,\n",
              " 0.0008581069142217511,\n",
              " 0.0006333628495815851,\n",
              " 0.0006761869439730705,\n",
              " 0.9968550008818292,\n",
              " 0.0007864831105476375,\n",
              " 0.0006606524530048889,\n",
              " 0.9975864303889579,\n",
              " 0.0005196506258516641,\n",
              " 0.0008028340270958399,\n",
              " 0.0005024327764599169,\n",
              " 0.0005707003510826784,\n",
              " 0.0007749380225890349,\n",
              " 0.000713806405378349,\n",
              " 0.0010295830798870678,\n",
              " 0.0007762064744211687,\n",
              " 0.0007645860700679063,\n",
              " 0.0007061810623367032,\n",
              " 0.0008533606453684531,\n",
              " 0.0006875102286002054,\n",
              " 0.0006196430923774504,\n",
              " 0.0007872148853761004,\n",
              " 0.0007048744334107577,\n",
              " 0.9974457428236516,\n",
              " 0.0005788137497139341,\n",
              " 0.9985062438160418,\n",
              " 0.0005827293818841187,\n",
              " 0.000664498354545454,\n",
              " 0.9970811175426229,\n",
              " 0.9972628548346031,\n",
              " 0.0006181616311980376,\n",
              " 0.0006996716294595821,\n",
              " 0.000712355504423448,\n",
              " 0.0005915456221700675,\n",
              " 0.0007616905009336241,\n",
              " 0.9980099944438923,\n",
              " 0.0007305434439435978,\n",
              " 0.0007855649030823818,\n",
              " 0.000577106057885083,\n",
              " 0.0007411002291841925,\n",
              " 0.9979123987640316,\n",
              " 0.0007090537661437025,\n",
              " 0.0006180965586803661,\n",
              " 0.0004851551165383521,\n",
              " 0.9975498801367206,\n",
              " 0.0007403892009740093,\n",
              " 0.0007607769895626109,\n",
              " 0.9980898985261568,\n",
              " 0.9981002619897088,\n",
              " 0.0007566125297915996,\n",
              " 0.0006379872624822688,\n",
              " 0.0005828819744796837,\n",
              " 0.9975918426173555,\n",
              " 0.0007951149348928124,\n",
              " 0.0006796266765538613,\n",
              " 0.996738378113189,\n",
              " 0.0007101532656059372,\n",
              " 0.9962217850571831,\n",
              " 0.000637803042309525,\n",
              " 0.9976182120611621,\n",
              " 0.00103314745289459,\n",
              " 0.000605227883326608,\n",
              " 0.9977180377741495,\n",
              " 0.0004809790274481168,\n",
              " 0.9972504427813071,\n",
              " 0.0008132525203576032,\n",
              " 0.9973206806456122,\n",
              " 0.00048199212711735076,\n",
              " 0.0006783850135290675,\n",
              " 0.0005857667744859898,\n",
              " 0.0007136630866690099,\n",
              " 0.0007048065043648636,\n",
              " 0.9971182831883807,\n",
              " 0.9975002798379472,\n",
              " 0.0008703156973648468,\n",
              " 0.0006554203326623552,\n",
              " 0.0006846883574780648,\n",
              " 0.0006717090089623257,\n",
              " 0.0007076684596056202,\n",
              " 0.0008375332677916668,\n",
              " 0.0006549288072888351,\n",
              " 0.000800816083223442,\n",
              " 0.0005960281007710974,\n",
              " 0.0006398264128503583,\n",
              " 0.0006507496588330995,\n",
              " 0.9975764692929134,\n",
              " 0.0007792787341012507,\n",
              " 0.0006824340466685102,\n",
              " 0.0007184137644407206,\n",
              " 0.0005600476412947522,\n",
              " 0.0007496419975526988,\n",
              " 0.0007897774317923397,\n",
              " 0.0006620155985015672,\n",
              " 0.9976464421907364,\n",
              " 0.0006235745007018071,\n",
              " 0.0006887415975799416,\n",
              " 0.997450749984621,\n",
              " 0.0007209063549627598,\n",
              " 0.0007940358670587126,\n",
              " 0.000621057084382198,\n",
              " 0.0007631470379066063,\n",
              " 0.0006055824315936465,\n",
              " 0.0007822423006145812,\n",
              " 0.0006891216586523667,\n",
              " 0.0007088376878593747,\n",
              " 0.9973200875708534,\n",
              " 0.0006444552947139699,\n",
              " 0.000823618900122,\n",
              " 0.000742244781217221,\n",
              " 0.0007707625530370466,\n",
              " 0.9973875869777737,\n",
              " 0.0007335282511563727,\n",
              " 0.0007146844348218712,\n",
              " 0.0006694583415153425,\n",
              " 0.0007995238124019465,\n",
              " 0.0006608789315857432,\n",
              " 0.0007294013330407522,\n",
              " 0.9982535190016223,\n",
              " 0.00048802204275317785,\n",
              " 0.0006590010722195179,\n",
              " 0.0007057272053814229,\n",
              " 0.0007029032576968605,\n",
              " 0.0008233025377740638,\n",
              " 0.0006666964856646575,\n",
              " 0.0005766674855906025,\n",
              " 0.0007090891602324257,\n",
              " 0.0006483954354870926,\n",
              " 0.0009421239528412842,\n",
              " 0.0005903972156480351,\n",
              " 0.0007616310730109396,\n",
              " 0.0007980651106973523,\n",
              " 0.0004481904660012781,\n",
              " 0.0005358833415844541,\n",
              " 0.0007814569043169025,\n",
              " 0.9968717376381161,\n",
              " 0.0007869126779045212,\n",
              " 0.0006181232669244326,\n",
              " 0.0007468703868863016,\n",
              " 0.000636962781680526,\n",
              " 0.0009424230778006036,\n",
              " 0.0007817712884947861,\n",
              " 0.000757009235704876,\n",
              " 0.0007158109630120461,\n",
              " 0.0005527888495573096,\n",
              " 0.0010995278222575738,\n",
              " 0.0009407722800845396,\n",
              " 0.9975226764517333,\n",
              " 0.00043339502199280086,\n",
              " 0.9967778751878181,\n",
              " 0.0006972481512617018,\n",
              " 0.9980770895126251,\n",
              " 0.9978104129597594,\n",
              " 0.0007249592351587951,\n",
              " 0.0006870108316703868,\n",
              " 0.0007392890454981224,\n",
              " 0.9971160664256843,\n",
              " 0.0008174047894972244,\n",
              " 0.0006274860685844252,\n",
              " 0.000698666906514429,\n",
              " 0.0006855290831474315,\n",
              " 0.0006998029842813894,\n",
              " 0.0008357681948712013,\n",
              " 0.0006473192984913741,\n",
              " 0.0009186532933861564,\n",
              " 0.0006593925042124748,\n",
              " 0.000709445328413698,\n",
              " 0.9970397706787145,\n",
              " 0.0007842132795292165,\n",
              " 0.997695801866976,\n",
              " 0.0005506831832882745,\n",
              " 0.0010238362059065923,\n",
              " 0.0007079193300339479,\n",
              " 0.0007276638962765599,\n",
              " 0.9982950220610046,\n",
              " 0.0006706523887712492,\n",
              " 0.0008264912445006141,\n",
              " 0.0007663733947256515,\n",
              " 0.0006805937325823072,\n",
              " 0.9986514095592516,\n",
              " 0.000624507817817958,\n",
              " 0.000720413883006568,\n",
              " 0.00066980211928768,\n",
              " 0.0009287700243356242,\n",
              " 0.0006915111150761881,\n",
              " 0.9983326684807783,\n",
              " 0.0006428888221848076,\n",
              " 0.0006761828879665041,\n",
              " 0.0007375692434182232,\n",
              " 0.0011345385985724716,\n",
              " 0.0006599562193792476,\n",
              " 0.0007699235362006889,\n",
              " 0.000653491510606516,\n",
              " 0.0005817178394447235,\n",
              " 0.0006001236622651128,\n",
              " 0.0007290844042101457,\n",
              " 0.0006980533205205496,\n",
              " 0.997884628492945,\n",
              " 0.0005277791331908229,\n",
              " 0.0010138769551839748,\n",
              " 0.0006617736435966901,\n",
              " 0.0006439365381384719,\n",
              " 0.9969923388111215,\n",
              " 0.0007805038315561475,\n",
              " 0.9969866598995692,\n",
              " 0.9971501507466173,\n",
              " 0.000983273885951272,\n",
              " 0.0006026455345005006,\n",
              " 0.0008378908975353808,\n",
              " 0.000628459784430593,\n",
              " 0.0005496600235749836,\n",
              " 0.0006595668642329951,\n",
              " 0.9973643449351266,\n",
              " 0.0006911220112714156,\n",
              " 0.0008146881041593218,\n",
              " 0.0005617381771312383,\n",
              " 0.0008126869977666804,\n",
              " 0.0006940313240758007,\n",
              " 0.0005075125881941192,\n",
              " 0.9959537950129517,\n",
              " 0.000743752374769022,\n",
              " 0.0007305300891876477,\n",
              " 0.0006852207914772127,\n",
              " 0.000660735982652166,\n",
              " 0.000540285027405744,\n",
              " 0.000422399501746652,\n",
              " 0.99755059521896,\n",
              " 0.0006840793717741971,\n",
              " 0.0006344354505082398,\n",
              " 0.0008363719440909655,\n",
              " 0.0007033176592631312,\n",
              " 0.0005593411036066607,\n",
              " 0.0007096154963641722,\n",
              " 0.000575661627004132,\n",
              " 0.0008842648543728513,\n",
              " 0.0007104106285331225,\n",
              " 0.0006093273403154002,\n",
              " 0.0008090415717193726,\n",
              " 0.0005844350866628395,\n",
              " 0.0008697701563628499,\n",
              " 0.0006103039226730999,\n",
              " 0.0009312868522372666,\n",
              " 0.0006942941366368221,\n",
              " 0.0009606054144474646,\n",
              " 0.0007298936273448431,\n",
              " 0.0006932395810313495,\n",
              " 0.0005851890850406635,\n",
              " 0.0007031491626620513,\n",
              " 0.00048601207408277406,\n",
              " 0.0006699535033040695,\n",
              " 0.0005676345271951014,\n",
              " 0.000606476046927212,\n",
              " 0.9963838832749741,\n",
              " 0.0007923994624212838,\n",
              " 0.0007616943144246679,\n",
              " 0.0006911444543596607,\n",
              " 0.9975607768147902,\n",
              " 0.0007116482679264629,\n",
              " 0.0006983368935559462,\n",
              " 0.9979949878894687,\n",
              " 0.9979305325379435,\n",
              " 0.0004966970150684249,\n",
              " 0.0007478933407150182,\n",
              " 0.9977966945201941,\n",
              " 0.0007871223699924345,\n",
              " 0.0008769805505618249,\n",
              " 0.0006469302846083963,\n",
              " 0.0008440729052175927,\n",
              " 0.0006858837268958515,\n",
              " 0.0007386984789787649,\n",
              " 0.000671145944044163,\n",
              " 0.00047254174479787945,\n",
              " 0.0007618464220866841,\n",
              " 0.0008631517263862974,\n",
              " 0.0007265548228319733,\n",
              " 0.9981670238872395,\n",
              " 0.0007480502212786217,\n",
              " 0.0007669848560435623,\n",
              " 0.9967072939980314,\n",
              " 0.0005635233956470054,\n",
              " 0.0005752610747402251,\n",
              " 0.998310718098731,\n",
              " 0.0007593945771776821,\n",
              " 0.0010418196436660085,\n",
              " 0.0006798701457660867,\n",
              " 0.0006011671852895457,\n",
              " 0.0006457184034503394,\n",
              " 0.0008133576943463531,\n",
              " 0.9980877176253974,\n",
              " 0.0007073515787562653,\n",
              " 0.0007685482162743851,\n",
              " 0.0007822632423102267,\n",
              " 0.0006298235546665054,\n",
              " 0.0005584516275207509,\n",
              " 0.0006135217588192155,\n",
              " 0.0007102506091299634,\n",
              " 0.000674724244038844,\n",
              " 0.0006045282452127804,\n",
              " 0.9966350706103967,\n",
              " 0.9972600811465251,\n",
              " 0.0006181304324438205,\n",
              " 0.0006087355262167637,\n",
              " 0.0005857447974770782,\n",
              " 0.9978275495294088,\n",
              " 0.9978268288840632,\n",
              " 0.0007199309632876927,\n",
              " 0.0004726794529571195,\n",
              " 0.9980605869652674,\n",
              " 0.9959010593963137,\n",
              " 0.0006688821153659633,\n",
              " 0.9975684972366698,\n",
              " 0.0008204649917612067,\n",
              " 0.0006659302933587668,\n",
              " 0.9973513088973183,\n",
              " 0.0005937241187063684,\n",
              " 0.0007844521465024628,\n",
              " 0.0007071819981378151,\n",
              " 0.0009270975879540199,\n",
              " 0.0009514017372786711,\n",
              " 0.000753634809506385,\n",
              " 0.0005714007762556404,\n",
              " 0.0007324649760784353,\n",
              " 0.0007286718772660796,\n",
              " 0.0006628876822897881,\n",
              " 0.9979388851054898,\n",
              " 0.0007177708044976804,\n",
              " 0.9982450337521838,\n",
              " 0.9970824319681895,\n",
              " 0.9979257455439932,\n",
              " 0.997421776999952,\n",
              " 0.0006916637893448121,\n",
              " 0.9975146328603309,\n",
              " 0.0006817490688337328,\n",
              " 0.0007906456548643427,\n",
              " 0.9979473702793489,\n",
              " 0.0006272687768425376,\n",
              " 0.0007495801250930667,\n",
              " 0.0008015846911777303,\n",
              " 0.000559498003391866,\n",
              " 0.0007821637997009556,\n",
              " 0.0006652800772057502,\n",
              " 0.000907283427535044,\n",
              " 0.9966113078486848,\n",
              " 0.0005863441540836095,\n",
              " 0.9974758400663012,\n",
              " 0.000782396047095184,\n",
              " 0.0006769303761152077,\n",
              " 0.0006386794678610474,\n",
              " 0.0007838223427948562,\n",
              " 0.9971718057631923,\n",
              " 0.9977732147528856,\n",
              " 0.0004969267315894405,\n",
              " 0.0007669392986554697,\n",
              " 0.0007295283110789473,\n",
              " 0.9973476402358135,\n",
              " 0.0006525041825759881,\n",
              " 0.0006400673436943779,\n",
              " 0.9978913900206359,\n",
              " 0.0007274663293252971,\n",
              " 0.0007478232365599946,\n",
              " 0.0006825574999264814,\n",
              " 0.0007157375255330163,\n",
              " 0.0006318223573368677,\n",
              " 0.0007285309693061056,\n",
              " 0.0007339566928995148,\n",
              " 0.0006426673983490983,\n",
              " 0.0006215624536997394,\n",
              " 0.00048105924472083186,\n",
              " 0.00046849971261881394,\n",
              " 0.0006649389299854936,\n",
              " 0.0005812457137974851,\n",
              " 0.0007371010739676063,\n",
              " 0.0005667662637167755,\n",
              " 0.0007454362402856261,\n",
              " 0.00048245654265459853,\n",
              " 0.0006761591187269649,\n",
              " 0.997423205516963,\n",
              " 0.0006764170386766704,\n",
              " 0.9976525727922798,\n",
              " 0.000568278507520823,\n",
              " 0.0008368080568982124,\n",
              " 0.99802689166403,\n",
              " 0.0007637139147658812,\n",
              " 0.9967841957020697,\n",
              " 0.0008118828635252103,\n",
              " 0.0006742201847477913,\n",
              " 0.0009269004789244313,\n",
              " 0.0008356186223573943,\n",
              " 0.0004884768394557927,\n",
              " 0.9973650024743564,\n",
              " 0.9982345070932936,\n",
              " 0.0004889236310594824,\n",
              " 0.9965402154558852,\n",
              " 0.0008347698786500984,\n",
              " 0.0007348849663708413,\n",
              " 0.9967050580375713,\n",
              " 0.9975503914081046,\n",
              " 0.0006649248100784165,\n",
              " 0.9968862266606137,\n",
              " 0.9970935170194387,\n",
              " 0.9977618182475285,\n",
              " 0.0007415625414908875,\n",
              " 0.00048706530518640936,\n",
              " 0.0006550184424966889,\n",
              " 0.0006264474444737397,\n",
              " 0.0008400880685556702,\n",
              " 0.0008800898825815432,\n",
              " 0.0007090644307042857,\n",
              " 0.0006623566210375351,\n",
              " 0.0006790818091727368,\n",
              " 0.0005940165216775492,\n",
              " 0.0006896809014631105,\n",
              " 0.0008833740492671023,\n",
              " 0.9976250602910879,\n",
              " 0.000723719634684534,\n",
              " 0.9975055483650984,\n",
              " 0.0006557941515799822,\n",
              " 0.0009852429799032596,\n",
              " 0.0005844295075771738,\n",
              " 0.0006468767018201924,\n",
              " 0.9987320760439111,\n",
              " 0.0005077979359268755,\n",
              " 0.0007222979052759291,\n",
              " 0.9975740822258433,\n",
              " 0.0005627289197968799,\n",
              " 0.0004668271682899768,\n",
              " 0.0005797119579981974,\n",
              " 0.0005980559265113375,\n",
              " 0.0007698707986181779,\n",
              " 0.9970835255492905,\n",
              " 0.0006437136239885126,\n",
              " 0.9978178549923361,\n",
              " 0.0005821698825018833,\n",
              " 0.0007929045673256538,\n",
              " 0.9976694339484596,\n",
              " 0.0007271329787940066,\n",
              " 0.001002403392867872,\n",
              " 0.0006887350479553981,\n",
              " 0.0007790099848208682,\n",
              " 0.0007082656422574925,\n",
              " 0.9969201921255265,\n",
              " 0.0008012026611886054,\n",
              " 0.9979210030387172,\n",
              " 0.0007733447725615372,\n",
              " 0.0007770196589618209,\n",
              " 0.0005116982971275089,\n",
              " 0.0006827833298016344,\n",
              " 0.0004344910614592399,\n",
              " 0.9972498502010138,\n",
              " 0.0006971755767844932,\n",
              " 0.0007093970054469255,\n",
              " 0.9974364176607191,\n",
              " 0.0008825946664329755,\n",
              " 0.9981463875127378,\n",
              " 0.0007430908117577687,\n",
              " 0.00048183700842872206,\n",
              " 0.0007907287095861793,\n",
              " 0.0007327896532635939,\n",
              " 0.998300181847277,\n",
              " 0.9960654904638285,\n",
              " 0.9976843128442171,\n",
              " 0.000705124948531357,\n",
              " 0.00045021296890146586,\n",
              " 0.0005097727672090187,\n",
              " 0.0007987786544852811,\n",
              " 0.0008038438633565485,\n",
              " 0.9967027150550506,\n",
              " 0.0008340092694629383,\n",
              " 0.0007282668885737126,\n",
              " 0.0007397406329727288,\n",
              " 0.0008520503434315837,\n",
              " 0.0007687714381717078,\n",
              " 0.0008316408812601084,\n",
              " 0.0005113881512415631,\n",
              " 0.0007788444701630121,\n",
              " 0.0007384803610996217,\n",
              " 0.0006849947769959932,\n",
              " 0.0007199913909925027,\n",
              " 0.9970471167241236,\n",
              " 0.9975756170069495,\n",
              " 0.0006552825393302936,\n",
              " 0.0011784110832822768,\n",
              " 0.000600578975575564,\n",
              " 0.0009134046200516609,\n",
              " 0.9976723356654021,\n",
              " 0.9976333449453458,\n",
              " 0.0007088915889112966,\n",
              " 0.0005144463478704473,\n",
              " 0.0006951136286570108,\n",
              " 0.998052476156719,\n",
              " 0.0005230502026150007,\n",
              " 0.0007270862318948186,\n",
              " 0.000789353220587114,\n",
              " 0.0009188127565035279,\n",
              " 0.9966861002761758,\n",
              " 0.0007752007050443983,\n",
              " 0.9973545005842854,\n",
              " 0.0007637948741939575,\n",
              " 0.9979173811267367,\n",
              " 0.0005808702968759803,\n",
              " 0.9975148505680257,\n",
              " 0.000599184067693497,\n",
              " 0.0004698101341528521,\n",
              " 0.9977649728030389,\n",
              " 0.0008012418386799179,\n",
              " 0.0005847307957474403,\n",
              " 0.0006564371744431039,\n",
              " 0.0007776055533618087,\n",
              " 0.0005673994281654451,\n",
              " 0.001256742172669872,\n",
              " 0.0007301670456347716,\n",
              " 0.0007361042810330342,\n",
              " 0.9973821851309302,\n",
              " 0.0006560324006705024,\n",
              " 0.9970727290420304,\n",
              " 0.0006304453961898898,\n",
              " 0.0006468801274990323,\n",
              " 0.0006821254835657959,\n",
              " 0.000644526431215851,\n",
              " 0.9980455473712694,\n",
              " 0.0007157763641217643,\n",
              " 0.0005918618035134318,\n",
              " 0.0007277018303987997,\n",
              " 0.0008132830550814136,\n",
              " 0.0005470498729288506,\n",
              " 0.0006434875301095127,\n",
              " 0.0006792686228476959,\n",
              " 0.0007917090866075254,\n",
              " 0.0007555080442771047,\n",
              " 0.0007242853985919162,\n",
              " 0.0007164931490868808,\n",
              " 0.0006568832332263327,\n",
              " 0.0005133856503943047,\n",
              " 0.0007329463652349008,\n",
              " 0.000573779821725965,\n",
              " 0.000637931543404846,\n",
              " 0.0008773096078590281,\n",
              " 0.9980790254522276,\n",
              " 0.000855329604798009,\n",
              " 0.9969823504884723,\n",
              " 0.9980973098156115,\n",
              " 0.0006988420799611707,\n",
              " 0.00062069591773527,\n",
              " 0.996756928859853,\n",
              " 0.0006659144429434781,\n",
              " 0.000712525251873122,\n",
              " 0.00047297525946519064,\n",
              " 0.0007602691726198202,\n",
              " 0.0007168199187391763,\n",
              " 0.0007016759898723599,\n",
              " 0.0006487019534343739,\n",
              " 0.0007043033247161958,\n",
              " 0.0007841308687862914,\n",
              " 0.0006918059373138814,\n",
              " 0.001153673649848764,\n",
              " 0.9976692774594061,\n",
              " 0.0005173374538898376,\n",
              " 0.0007270933979426301,\n",
              " 0.996954718130366,\n",
              " 0.0007297509401166041,\n",
              " 0.0006098449459901245,\n",
              " 0.0006154222854137663,\n",
              " 0.0008268809463612824,\n",
              " 0.997295281709575,\n",
              " 0.0006510352689177975,\n",
              " 0.0007266411699724641,\n",
              " 0.000809367633286936,\n",
              " 0.0006926846724066345,\n",
              " 0.0006467116150370546,\n",
              " 0.0007265764014542481,\n",
              " 0.0007082900075967724,\n",
              " 0.0005547438951799758,\n",
              " 0.9980471713118758,\n",
              " 0.0007913405491518114,\n",
              " 0.0007331521959096874,\n",
              " 0.0005869069103893362,\n",
              " 0.0007079564617223342,\n",
              " 0.9978241183040387,\n",
              " 0.0007074880747899577,\n",
              " 0.9968716239777936,\n",
              " 0.0007356907474431058,\n",
              " 0.0005042969306175108,\n",
              " 0.000553848616797841,\n",
              " 0.0007360281073349016,\n",
              " 0.0007410463902501266,\n",
              " 0.0008499404185050006,\n",
              " 0.0008322479090867455,\n",
              " 0.0006651103563659222,\n",
              " 0.0007412046857654602,\n",
              " 0.9980472285706883,\n",
              " 0.000775602386652258,\n",
              " 0.0007322784771516576,\n",
              " 0.9975230085302307,\n",
              " 0.9971664553138333,\n",
              " 0.0005942417672070902,\n",
              " 0.9978466950310222,\n",
              " 0.9971395789681621,\n",
              " 0.0008100219967228499,\n",
              " 0.0006933825061878099,\n",
              " 0.0005993389083278177,\n",
              " 0.00048315233697023013,\n",
              " 0.0005546704599170444,\n",
              " 0.9980106365789869,\n",
              " 0.0006668367393099559,\n",
              " 0.0008109850002853736,\n",
              " 0.9969791064608441,\n",
              " 0.9976651092984266,\n",
              " 0.0006370029260366439,\n",
              " 0.9974492855771271,\n",
              " 0.0007854358669651495,\n",
              " 0.0008064419840293429,\n",
              " 0.0009367802560848926,\n",
              " 0.0007211023671927478,\n",
              " 0.0006497318650129836,\n",
              " 0.0007267986574789478,\n",
              " 0.0007090952920878786,\n",
              " 0.000664542770889292,\n",
              " 0.0006959485979609483,\n",
              " 0.0007231667349185378,\n",
              " 0.0007591937610190019,\n",
              " 0.00044744995475173654,\n",
              " 0.0006698690755854656,\n",
              " 0.0006809711514963498,\n",
              " 0.0005829933825450659,\n",
              " 0.0006787717635392285,\n",
              " 0.9974134110010302,\n",
              " 0.0008569967142202129,\n",
              " 0.9976680880231211,\n",
              " 0.000803962134590879,\n",
              " 0.0006695678755150697,\n",
              " 0.0005941910086006369,\n",
              " 0.0007300404831010865,\n",
              " 0.0005450751460460609,\n",
              " 0.0006190186142561424,\n",
              " 0.0006363630794348675,\n",
              " 0.0007580317034117754,\n",
              " 0.0006651652834556203,\n",
              " 0.0006577413521843069,\n",
              " 0.0007157367884988769,\n",
              " 0.9979928160023105,\n",
              " 0.000790718458234877,\n",
              " 0.0007295256883872713,\n",
              " 0.000515310286292785,\n",
              " 0.0007173673386310702,\n",
              " 0.9975089817138613,\n",
              " 0.0005674090143251828,\n",
              " 0.9976699375837432,\n",
              " 0.0007831430979195149,\n",
              " 0.0007394559517926024,\n",
              " 0.9978655014236678,\n",
              " 0.0007338359984294428,\n",
              " 0.9962071911183481,\n",
              " 0.000478147287586267,\n",
              " 0.0007680445724881006,\n",
              " 0.0004444303816032369,\n",
              " 0.998419522149615,\n",
              " 0.0006833745306927232,\n",
              " 0.0007103497395714501,\n",
              " 0.0007685638141408795,\n",
              " 0.0005965450457660745,\n",
              " 0.99764928674584,\n",
              " 0.000684475084269871,\n",
              " 0.0005879700325203391,\n",
              " 0.0006838640531604343,\n",
              " 0.0006257113149647701,\n",
              " 0.0006931213630151429,\n",
              " 0.0006119432259348701,\n",
              " 0.0007372494929340796,\n",
              " 0.0011619090270045295,\n",
              " 0.00066709257838769,\n",
              " 0.0006439542854311826,\n",
              " 0.0006318111756948718,\n",
              " 0.0007899366577053348,\n",
              " 0.0008023965756894543,\n",
              " 0.0007240013076586372,\n",
              " 0.0005943351018631828,\n",
              " 0.0007290253871921048,\n",
              " 0.0005557754144739297,\n",
              " 0.0006039182748218352,\n",
              " 0.0007616154996755708,\n",
              " 0.0008346356078024708,\n",
              " 0.000723709571062003,\n",
              " 0.996912393496519,\n",
              " 0.0007626800650793284,\n",
              " 0.9976288994393422,\n",
              " 0.0007147290715068894,\n",
              " 0.0007805768021462648,\n",
              " 0.0006615670658840238,\n",
              " 0.0006429613638088244,\n",
              " 0.9980149373915952,\n",
              " 0.0006737526773231509,\n",
              " 0.0007541593457402738,\n",
              " 0.0006834840421060283,\n",
              " 0.000626785167633612,\n",
              " 0.0011510672019992777,\n",
              " 0.0007154654959224388,\n",
              " 0.000742310699559307,\n",
              " 0.9969295291272575,\n",
              " 0.0005240726731462985,\n",
              " 0.9980662602998416,\n",
              " 0.9968221714587862,\n",
              " 0.0006699158825296989,\n",
              " 0.0007840256530633367,\n",
              " 0.0006724266292351014,\n",
              " 0.0006511674823271419,\n",
              " 0.9979265696689988,\n",
              " 0.9967327025497867,\n",
              " 0.0007768673682565943,\n",
              " 0.0006633253243557518,\n",
              " 0.0005947875123461315,\n",
              " 0.0006994893579190156,\n",
              " 0.9978166432358074,\n",
              " 0.0005463162599965722,\n",
              " 0.998098010927077,\n",
              " 0.9982954930917817,\n",
              " ...]"
            ]
          },
          "metadata": {
            "tags": []
          },
          "execution_count": 78
        }
      ]
    },
    {
      "cell_type": "code",
      "metadata": {
        "id": "7fRtkL8EIbgH"
      },
      "source": [
        "p=pd.DataFrame(p)"
      ],
      "execution_count": 106,
      "outputs": []
    },
    {
      "cell_type": "code",
      "metadata": {
        "colab": {
          "base_uri": "https://localhost:8080/",
          "height": 423
        },
        "id": "jNG1Xy-qGUNk",
        "outputId": "e3247fb6-ae43-4563-8b1c-15a57c4eeb4c"
      },
      "source": [
        "target=Ytrain.reset_index()\n",
        "target.drop(columns='index',inplace=True)\n",
        "target"
      ],
      "execution_count": 98,
      "outputs": [
        {
          "output_type": "execute_result",
          "data": {
            "text/html": [
              "<div>\n",
              "<style scoped>\n",
              "    .dataframe tbody tr th:only-of-type {\n",
              "        vertical-align: middle;\n",
              "    }\n",
              "\n",
              "    .dataframe tbody tr th {\n",
              "        vertical-align: top;\n",
              "    }\n",
              "\n",
              "    .dataframe thead th {\n",
              "        text-align: right;\n",
              "    }\n",
              "</style>\n",
              "<table border=\"1\" class=\"dataframe\">\n",
              "  <thead>\n",
              "    <tr style=\"text-align: right;\">\n",
              "      <th></th>\n",
              "      <th>default payment next month</th>\n",
              "    </tr>\n",
              "  </thead>\n",
              "  <tbody>\n",
              "    <tr>\n",
              "      <th>0</th>\n",
              "      <td>0</td>\n",
              "    </tr>\n",
              "    <tr>\n",
              "      <th>1</th>\n",
              "      <td>0</td>\n",
              "    </tr>\n",
              "    <tr>\n",
              "      <th>2</th>\n",
              "      <td>1</td>\n",
              "    </tr>\n",
              "    <tr>\n",
              "      <th>3</th>\n",
              "      <td>1</td>\n",
              "    </tr>\n",
              "    <tr>\n",
              "      <th>4</th>\n",
              "      <td>1</td>\n",
              "    </tr>\n",
              "    <tr>\n",
              "      <th>...</th>\n",
              "      <td>...</td>\n",
              "    </tr>\n",
              "    <tr>\n",
              "      <th>23995</th>\n",
              "      <td>0</td>\n",
              "    </tr>\n",
              "    <tr>\n",
              "      <th>23996</th>\n",
              "      <td>1</td>\n",
              "    </tr>\n",
              "    <tr>\n",
              "      <th>23997</th>\n",
              "      <td>0</td>\n",
              "    </tr>\n",
              "    <tr>\n",
              "      <th>23998</th>\n",
              "      <td>0</td>\n",
              "    </tr>\n",
              "    <tr>\n",
              "      <th>23999</th>\n",
              "      <td>0</td>\n",
              "    </tr>\n",
              "  </tbody>\n",
              "</table>\n",
              "<p>24000 rows × 1 columns</p>\n",
              "</div>"
            ],
            "text/plain": [
              "       default payment next month\n",
              "0                               0\n",
              "1                               0\n",
              "2                               1\n",
              "3                               1\n",
              "4                               1\n",
              "...                           ...\n",
              "23995                           0\n",
              "23996                           1\n",
              "23997                           0\n",
              "23998                           0\n",
              "23999                           0\n",
              "\n",
              "[24000 rows x 1 columns]"
            ]
          },
          "metadata": {
            "tags": []
          },
          "execution_count": 98
        }
      ]
    },
    {
      "cell_type": "code",
      "metadata": {
        "colab": {
          "base_uri": "https://localhost:8080/",
          "height": 423
        },
        "id": "V9ySjRLRFh4a",
        "outputId": "46c9deca-bda5-4338-fff4-f4d0964ce446"
      },
      "source": [
        "df1=pd.concat([target, p], axis=1)\n",
        "df1"
      ],
      "execution_count": 109,
      "outputs": [
        {
          "output_type": "execute_result",
          "data": {
            "text/html": [
              "<div>\n",
              "<style scoped>\n",
              "    .dataframe tbody tr th:only-of-type {\n",
              "        vertical-align: middle;\n",
              "    }\n",
              "\n",
              "    .dataframe tbody tr th {\n",
              "        vertical-align: top;\n",
              "    }\n",
              "\n",
              "    .dataframe thead th {\n",
              "        text-align: right;\n",
              "    }\n",
              "</style>\n",
              "<table border=\"1\" class=\"dataframe\">\n",
              "  <thead>\n",
              "    <tr style=\"text-align: right;\">\n",
              "      <th></th>\n",
              "      <th>default payment next month</th>\n",
              "      <th>0</th>\n",
              "    </tr>\n",
              "  </thead>\n",
              "  <tbody>\n",
              "    <tr>\n",
              "      <th>0</th>\n",
              "      <td>0</td>\n",
              "      <td>0.000806</td>\n",
              "    </tr>\n",
              "    <tr>\n",
              "      <th>1</th>\n",
              "      <td>0</td>\n",
              "      <td>0.000566</td>\n",
              "    </tr>\n",
              "    <tr>\n",
              "      <th>2</th>\n",
              "      <td>1</td>\n",
              "      <td>0.997953</td>\n",
              "    </tr>\n",
              "    <tr>\n",
              "      <th>3</th>\n",
              "      <td>1</td>\n",
              "      <td>0.998382</td>\n",
              "    </tr>\n",
              "    <tr>\n",
              "      <th>4</th>\n",
              "      <td>1</td>\n",
              "      <td>0.997676</td>\n",
              "    </tr>\n",
              "    <tr>\n",
              "      <th>...</th>\n",
              "      <td>...</td>\n",
              "      <td>...</td>\n",
              "    </tr>\n",
              "    <tr>\n",
              "      <th>23995</th>\n",
              "      <td>0</td>\n",
              "      <td>0.000806</td>\n",
              "    </tr>\n",
              "    <tr>\n",
              "      <th>23996</th>\n",
              "      <td>1</td>\n",
              "      <td>0.997176</td>\n",
              "    </tr>\n",
              "    <tr>\n",
              "      <th>23997</th>\n",
              "      <td>0</td>\n",
              "      <td>0.000771</td>\n",
              "    </tr>\n",
              "    <tr>\n",
              "      <th>23998</th>\n",
              "      <td>0</td>\n",
              "      <td>0.000760</td>\n",
              "    </tr>\n",
              "    <tr>\n",
              "      <th>23999</th>\n",
              "      <td>0</td>\n",
              "      <td>0.000709</td>\n",
              "    </tr>\n",
              "  </tbody>\n",
              "</table>\n",
              "<p>24000 rows × 2 columns</p>\n",
              "</div>"
            ],
            "text/plain": [
              "       default payment next month         0\n",
              "0                               0  0.000806\n",
              "1                               0  0.000566\n",
              "2                               1  0.997953\n",
              "3                               1  0.998382\n",
              "4                               1  0.997676\n",
              "...                           ...       ...\n",
              "23995                           0  0.000806\n",
              "23996                           1  0.997176\n",
              "23997                           0  0.000771\n",
              "23998                           0  0.000760\n",
              "23999                           0  0.000709\n",
              "\n",
              "[24000 rows x 2 columns]"
            ]
          },
          "metadata": {
            "tags": []
          },
          "execution_count": 109
        }
      ]
    },
    {
      "cell_type": "code",
      "metadata": {
        "colab": {
          "base_uri": "https://localhost:8080/",
          "height": 423
        },
        "id": "_Yb_4-7CIomj",
        "outputId": "5df32fc5-f731-4c12-d85b-c2ceef5b6dcf"
      },
      "source": [
        "df1.rename(columns={'default payment next month':'target',0:'prob'},inplace=True)\n",
        "df1"
      ],
      "execution_count": 115,
      "outputs": [
        {
          "output_type": "execute_result",
          "data": {
            "text/html": [
              "<div>\n",
              "<style scoped>\n",
              "    .dataframe tbody tr th:only-of-type {\n",
              "        vertical-align: middle;\n",
              "    }\n",
              "\n",
              "    .dataframe tbody tr th {\n",
              "        vertical-align: top;\n",
              "    }\n",
              "\n",
              "    .dataframe thead th {\n",
              "        text-align: right;\n",
              "    }\n",
              "</style>\n",
              "<table border=\"1\" class=\"dataframe\">\n",
              "  <thead>\n",
              "    <tr style=\"text-align: right;\">\n",
              "      <th></th>\n",
              "      <th>target</th>\n",
              "      <th>prob</th>\n",
              "    </tr>\n",
              "  </thead>\n",
              "  <tbody>\n",
              "    <tr>\n",
              "      <th>0</th>\n",
              "      <td>0</td>\n",
              "      <td>0.000806</td>\n",
              "    </tr>\n",
              "    <tr>\n",
              "      <th>1</th>\n",
              "      <td>0</td>\n",
              "      <td>0.000566</td>\n",
              "    </tr>\n",
              "    <tr>\n",
              "      <th>2</th>\n",
              "      <td>1</td>\n",
              "      <td>0.997953</td>\n",
              "    </tr>\n",
              "    <tr>\n",
              "      <th>3</th>\n",
              "      <td>1</td>\n",
              "      <td>0.998382</td>\n",
              "    </tr>\n",
              "    <tr>\n",
              "      <th>4</th>\n",
              "      <td>1</td>\n",
              "      <td>0.997676</td>\n",
              "    </tr>\n",
              "    <tr>\n",
              "      <th>...</th>\n",
              "      <td>...</td>\n",
              "      <td>...</td>\n",
              "    </tr>\n",
              "    <tr>\n",
              "      <th>23995</th>\n",
              "      <td>0</td>\n",
              "      <td>0.000806</td>\n",
              "    </tr>\n",
              "    <tr>\n",
              "      <th>23996</th>\n",
              "      <td>1</td>\n",
              "      <td>0.997176</td>\n",
              "    </tr>\n",
              "    <tr>\n",
              "      <th>23997</th>\n",
              "      <td>0</td>\n",
              "      <td>0.000771</td>\n",
              "    </tr>\n",
              "    <tr>\n",
              "      <th>23998</th>\n",
              "      <td>0</td>\n",
              "      <td>0.000760</td>\n",
              "    </tr>\n",
              "    <tr>\n",
              "      <th>23999</th>\n",
              "      <td>0</td>\n",
              "      <td>0.000709</td>\n",
              "    </tr>\n",
              "  </tbody>\n",
              "</table>\n",
              "<p>24000 rows × 2 columns</p>\n",
              "</div>"
            ],
            "text/plain": [
              "       target      prob\n",
              "0           0  0.000806\n",
              "1           0  0.000566\n",
              "2           1  0.997953\n",
              "3           1  0.998382\n",
              "4           1  0.997676\n",
              "...       ...       ...\n",
              "23995       0  0.000806\n",
              "23996       1  0.997176\n",
              "23997       0  0.000771\n",
              "23998       0  0.000760\n",
              "23999       0  0.000709\n",
              "\n",
              "[24000 rows x 2 columns]"
            ]
          },
          "metadata": {
            "tags": []
          },
          "execution_count": 115
        }
      ]
    },
    {
      "cell_type": "code",
      "metadata": {
        "colab": {
          "base_uri": "https://localhost:8080/"
        },
        "id": "8WTCasg2JczX",
        "outputId": "4bcaee1e-a1d9-4e65-f4a6-f8e3240c132c"
      },
      "source": [
        "pip install colorama"
      ],
      "execution_count": 118,
      "outputs": [
        {
          "output_type": "stream",
          "text": [
            "Collecting colorama\n",
            "  Downloading colorama-0.4.4-py2.py3-none-any.whl (16 kB)\n",
            "Installing collected packages: colorama\n",
            "Successfully installed colorama-0.4.4\n"
          ],
          "name": "stdout"
        }
      ]
    },
    {
      "cell_type": "code",
      "metadata": {
        "id": "iIPZBcyoI8sl"
      },
      "source": [
        "def ks(data=None,target=None, prob=None):\n",
        "    data['target0'] = 1 - data[target]\n",
        "    data['bucket'] = pd.qcut(data[prob], 10)\n",
        "    grouped = data.groupby('bucket', as_index = False)\n",
        "    kstable = pd.DataFrame()\n",
        "    kstable['min_prob'] = grouped.min()[prob]\n",
        "    kstable['max_prob'] = grouped.max()[prob]\n",
        "    kstable['events']   = grouped.sum()[target]\n",
        "    kstable['nonevents'] = grouped.sum()['target0']\n",
        "    kstable = kstable.sort_values(by=\"min_prob\", ascending=False).reset_index(drop = True)\n",
        "    kstable['event_rate'] = (kstable.events / data[target].sum()).apply('{0:.2%}'.format)\n",
        "    kstable['nonevent_rate'] = (kstable.nonevents / data['target0'].sum()).apply('{0:.2%}'.format)\n",
        "    kstable['cum_eventrate']=(kstable.events / data[target].sum()).cumsum()\n",
        "    kstable['cum_noneventrate']=(kstable.nonevents / data['target0'].sum()).cumsum()\n",
        "    kstable['KS'] = np.round(kstable['cum_eventrate']-kstable['cum_noneventrate'], 3) * 100\n",
        "\n",
        "    #Formating\n",
        "    kstable['cum_eventrate']= kstable['cum_eventrate'].apply('{0:.2%}'.format)\n",
        "    kstable['cum_noneventrate']= kstable['cum_noneventrate'].apply('{0:.2%}'.format)\n",
        "    kstable.index = range(1,11)\n",
        "    kstable.index.rename('Decile', inplace=True)\n",
        "    pd.set_option('display.max_columns', 9)\n",
        "    print(kstable)\n",
        "    \n",
        "    #Display KS\n",
        "    from colorama import Fore\n",
        "    print(Fore.RED + \"KS is \" + str(max(kstable['KS']))+\"%\"+ \" at decile \" + str((kstable.index[kstable['KS']==max(kstable['KS'])][0])))\n",
        "    return(kstable)"
      ],
      "execution_count": 113,
      "outputs": []
    },
    {
      "cell_type": "code",
      "metadata": {
        "colab": {
          "base_uri": "https://localhost:8080/"
        },
        "id": "03Q7GEyIJCva",
        "outputId": "8a2c903a-ed3e-405b-ba88-4aa21f2bd664"
      },
      "source": [
        "mydf = ks(data=df1,target=\"target\", prob=\"prob\")"
      ],
      "execution_count": 119,
      "outputs": [
        {
          "output_type": "stream",
          "text": [
            "        min_prob  max_prob  events  nonevents event_rate nonevent_rate  \\\n",
            "Decile                                                                   \n",
            "1       0.997660  0.999305    2400          0     44.95%         0.00%   \n",
            "2       0.996741  0.997660    2400          0     44.95%         0.00%   \n",
            "3       0.000836  0.996739     539       1861     10.10%         9.97%   \n",
            "4       0.000775  0.000836       0       2400      0.00%        12.86%   \n",
            "5       0.000737  0.000775       0       2400      0.00%        12.86%   \n",
            "6       0.000705  0.000737       0       2400      0.00%        12.86%   \n",
            "7       0.000667  0.000705       0       2400      0.00%        12.86%   \n",
            "8       0.000624  0.000667       0       2400      0.00%        12.86%   \n",
            "9       0.000571  0.000624       0       2400      0.00%        12.86%   \n",
            "10      0.000369  0.000570       0       2400      0.00%        12.86%   \n",
            "\n",
            "       cum_eventrate cum_noneventrate    KS  \n",
            "Decile                                       \n",
            "1             44.95%            0.00%  45.0  \n",
            "2             89.90%            0.00%  89.9  \n",
            "3            100.00%            9.97%  90.0  \n",
            "4            100.00%           22.83%  77.2  \n",
            "5            100.00%           35.69%  64.3  \n",
            "6            100.00%           48.56%  51.4  \n",
            "7            100.00%           61.42%  38.6  \n",
            "8            100.00%           74.28%  25.7  \n",
            "9            100.00%           87.14%  12.9  \n",
            "10           100.00%          100.00%   0.0  \n",
            "\u001b[31mKS is 90.0% at decile 3\n"
          ],
          "name": "stdout"
        }
      ]
    },
    {
      "cell_type": "code",
      "metadata": {
        "id": "mmNEDHKMwZjY",
        "colab": {
          "base_uri": "https://localhost:8080/"
        },
        "outputId": "404e72f7-051f-42bf-dca5-b1e514fb08bd"
      },
      "source": [
        "roc_auc_score(Ytrain,log.predict(Xtrain))"
      ],
      "execution_count": 29,
      "outputs": [
        {
          "output_type": "execute_result",
          "data": {
            "text/plain": [
              "1.0"
            ]
          },
          "metadata": {
            "tags": []
          },
          "execution_count": 29
        }
      ]
    },
    {
      "cell_type": "code",
      "metadata": {
        "id": "mHLVJIe_weTT",
        "colab": {
          "base_uri": "https://localhost:8080/"
        },
        "outputId": "ad600b73-8d78-4101-a385-088da323f221"
      },
      "source": [
        "roc_auc_score(Ytest,log.predict(Xtest))"
      ],
      "execution_count": 30,
      "outputs": [
        {
          "output_type": "execute_result",
          "data": {
            "text/plain": [
              "1.0"
            ]
          },
          "metadata": {
            "tags": []
          },
          "execution_count": 30
        }
      ]
    },
    {
      "cell_type": "code",
      "metadata": {
        "id": "GHnpHOlurvTi",
        "colab": {
          "base_uri": "https://localhost:8080/"
        },
        "outputId": "82366942-9669-4042-f918-b1f6f143dcd6"
      },
      "source": [
        "Ytrain[0:10]"
      ],
      "execution_count": 31,
      "outputs": [
        {
          "output_type": "execute_result",
          "data": {
            "text/plain": [
              "3226     0\n",
              "11816    0\n",
              "7339     1\n",
              "14981    1\n",
              "27168    1\n",
              "23155    0\n",
              "18327    1\n",
              "29264    0\n",
              "21934    0\n",
              "2662     0\n",
              "Name: default payment next month, dtype: int64"
            ]
          },
          "metadata": {
            "tags": []
          },
          "execution_count": 31
        }
      ]
    },
    {
      "cell_type": "code",
      "metadata": {
        "id": "Z6_Il0gbrzg9",
        "colab": {
          "base_uri": "https://localhost:8080/"
        },
        "outputId": "47f8e9cb-790e-48a2-be89-b5999de7514c"
      },
      "source": [
        "log.predict(Xtrain)[0:10]"
      ],
      "execution_count": 32,
      "outputs": [
        {
          "output_type": "execute_result",
          "data": {
            "text/plain": [
              "array([0, 0, 1, 1, 1, 0, 1, 0, 0, 0])"
            ]
          },
          "metadata": {
            "tags": []
          },
          "execution_count": 32
        }
      ]
    },
    {
      "cell_type": "code",
      "metadata": {
        "id": "nD4vnAAxqlhZ",
        "colab": {
          "base_uri": "https://localhost:8080/"
        },
        "outputId": "cc0ad6c9-44fe-477f-9ab4-0f03894295f1"
      },
      "source": [
        "print(\"The accuracy on train data is \", train_accuracy)\n",
        "print(\"The accuracy on test data is \", test_accuracy)"
      ],
      "execution_count": 33,
      "outputs": [
        {
          "output_type": "stream",
          "text": [
            "The accuracy on train data is  1.0\n",
            "The accuracy on test data is  1.0\n"
          ],
          "name": "stdout"
        }
      ]
    },
    {
      "cell_type": "code",
      "metadata": {
        "id": "0y0aJExvqpmM",
        "colab": {
          "base_uri": "https://localhost:8080/",
          "height": 313
        },
        "outputId": "34b78b84-1bb2-4427-d7fc-63a72eeb48d5"
      },
      "source": [
        "cm=confusion_matrix(Ytrain,log.predict(Xtrain))\n",
        "ax= plt.subplot()\n",
        "sns.heatmap(cm, annot=True, ax = ax,cmap='coolwarm')\n",
        "ax.set_xlabel('Predicted labels')\n",
        "ax.set_ylabel('True labels')\n",
        "ax.set_title('Confusion Matrix')\n"
      ],
      "execution_count": 34,
      "outputs": [
        {
          "output_type": "execute_result",
          "data": {
            "text/plain": [
              "Text(0.5, 1.0, 'Confusion Matrix')"
            ]
          },
          "metadata": {
            "tags": []
          },
          "execution_count": 34
        },
        {
          "output_type": "display_data",
          "data": {
            "image/png": "[encoded data removed]",
            "text/plain": [
              "<Figure size 432x288 with 2 Axes>"
            ]
          },
          "metadata": {
            "tags": [],
            "needs_background": "light"
          }
        }
      ]
    },
    {
      "cell_type": "code",
      "metadata": {
        "id": "NCqg5R1Pq5DU",
        "colab": {
          "base_uri": "https://localhost:8080/",
          "height": 313
        },
        "outputId": "93702f00-10c9-4609-e631-8062073d0333"
      },
      "source": [
        "cm=confusion_matrix(Ytest,log.predict(Xtest))\n",
        "ax= plt.subplot()\n",
        "sns.heatmap(cm, annot=True, ax = ax,cmap='coolwarm')\n",
        "ax.set_xlabel('Predicted labels')\n",
        "ax.set_ylabel('True labels')\n",
        "ax.set_title('Confusion Matrix')"
      ],
      "execution_count": 35,
      "outputs": [
        {
          "output_type": "execute_result",
          "data": {
            "text/plain": [
              "Text(0.5, 1.0, 'Confusion Matrix')"
            ]
          },
          "metadata": {
            "tags": []
          },
          "execution_count": 35
        },
        {
          "output_type": "display_data",
          "data": {
            "image/png": "[encoded data removed]",
            "text/plain": [
              "<Figure size 432x288 with 2 Axes>"
            ]
          },
          "metadata": {
            "tags": [],
            "needs_background": "light"
          }
        }
      ]
    },
    {
      "cell_type": "code",
      "metadata": {
        "id": "lP4Os8cstfmE",
        "colab": {
          "base_uri": "https://localhost:8080/"
        },
        "outputId": "50e2fe40-105d-47a7-94d3-26c78395f87b"
      },
      "source": [
        "roc_auc_score(Ytest,log.predict(Xtest))"
      ],
      "execution_count": 36,
      "outputs": [
        {
          "output_type": "execute_result",
          "data": {
            "text/plain": [
              "1.0"
            ]
          },
          "metadata": {
            "tags": []
          },
          "execution_count": 36
        }
      ]
    },
    {
      "cell_type": "code",
      "metadata": {
        "id": "k4u6rKiawEoC"
      },
      "source": [
        "from sklearn.tree import DecisionTreeClassifier"
      ],
      "execution_count": 37,
      "outputs": []
    },
    {
      "cell_type": "code",
      "metadata": {
        "id": "Bw-7NgwqrWFx"
      },
      "source": [
        "classifier=DecisionTreeClassifier(criterion='entropy',max_depth=5)"
      ],
      "execution_count": 38,
      "outputs": []
    },
    {
      "cell_type": "code",
      "metadata": {
        "colab": {
          "base_uri": "https://localhost:8080/"
        },
        "id": "iDJrkTcHsCsd",
        "outputId": "fdef656b-8bd6-4824-f940-da95eea789c8"
      },
      "source": [
        "classifier.fit(Xtrain,Ytrain)"
      ],
      "execution_count": 39,
      "outputs": [
        {
          "output_type": "execute_result",
          "data": {
            "text/plain": [
              "DecisionTreeClassifier(ccp_alpha=0.0, class_weight=None, criterion='entropy',\n",
              "                       max_depth=5, max_features=None, max_leaf_nodes=None,\n",
              "                       min_impurity_decrease=0.0, min_impurity_split=None,\n",
              "                       min_samples_leaf=1, min_samples_split=2,\n",
              "                       min_weight_fraction_leaf=0.0, presort='deprecated',\n",
              "                       random_state=None, splitter='best')"
            ]
          },
          "metadata": {
            "tags": []
          },
          "execution_count": 39
        }
      ]
    },
    {
      "cell_type": "code",
      "metadata": {
        "colab": {
          "base_uri": "https://localhost:8080/"
        },
        "id": "mracThKXsIi7",
        "outputId": "a9cf5270-4959-4ed3-b5c1-a416014c491f"
      },
      "source": [
        "classifier.predict(Xtrain)"
      ],
      "execution_count": 40,
      "outputs": [
        {
          "output_type": "execute_result",
          "data": {
            "text/plain": [
              "array([0, 0, 1, ..., 0, 0, 0])"
            ]
          },
          "metadata": {
            "tags": []
          },
          "execution_count": 40
        }
      ]
    },
    {
      "cell_type": "code",
      "metadata": {
        "colab": {
          "base_uri": "https://localhost:8080/"
        },
        "id": "oYv0hQLlsWC_",
        "outputId": "1241d904-a821-4791-eae3-1cadeb5d0209"
      },
      "source": [
        "accuracy_score(Ytrain,classifier.predict(Xtrain))"
      ],
      "execution_count": 41,
      "outputs": [
        {
          "output_type": "execute_result",
          "data": {
            "text/plain": [
              "1.0"
            ]
          },
          "metadata": {
            "tags": []
          },
          "execution_count": 41
        }
      ]
    },
    {
      "cell_type": "code",
      "metadata": {
        "colab": {
          "base_uri": "https://localhost:8080/"
        },
        "id": "m5CXWL47sbNg",
        "outputId": "93aa0332-d1e5-4b26-a65d-3732a7e52154"
      },
      "source": [
        "accuracy_score(Ytest,classifier.predict(Xtest))"
      ],
      "execution_count": 42,
      "outputs": [
        {
          "output_type": "execute_result",
          "data": {
            "text/plain": [
              "1.0"
            ]
          },
          "metadata": {
            "tags": []
          },
          "execution_count": 42
        }
      ]
    },
    {
      "cell_type": "code",
      "metadata": {
        "id": "uCq2OTvZspJq"
      },
      "source": [
        "from sklearn.tree import DecisionTreeClassifier, export_graphviz\n",
        "from sklearn import tree\n",
        "from IPython.display import SVG\n",
        "from graphviz import Source\n",
        "from IPython.display import display"
      ],
      "execution_count": 43,
      "outputs": []
    },
    {
      "cell_type": "code",
      "metadata": {
        "colab": {
          "base_uri": "https://localhost:8080/",
          "height": 281
        },
        "id": "ewUQ43G-sxeA",
        "outputId": "2c93a1fc-3a42-4f6f-ebfc-96fd4dd514e1"
      },
      "source": [
        "graph = Source(tree.export_graphviz(classifier, out_file=None\n",
        "   , feature_names=independent, class_names=['0', '1'] \n",
        "   , filled = True))\n",
        "display(SVG(graph.pipe(format='svg')))"
      ],
      "execution_count": 44,
      "outputs": [
        {
          "output_type": "display_data",
          "data": {
            "text/plain": [
              "<IPython.core.display.SVG object>"
            ],
            "image/svg+xml": "<svg height=\"195pt\" viewBox=\"0.00 0.00 268.00 195.00\" width=\"268pt\" xmlns=\"http://www.w3.org/2000/svg\" xmlns:xlink=\"http://www.w3.org/1999/xlink\">\n<g class=\"graph\" id=\"graph0\" transform=\"scale(1 1) rotate(0) translate(4 191)\">\n<title>Tree</title>\n<polygon fill=\"#ffffff\" points=\"-4,4 -4,-191 264,-191 264,4 -4,4\" stroke=\"transparent\"/>\n<!-- 0 -->\n<g class=\"node\" id=\"node1\">\n<title>0</title>\n<polygon fill=\"#eca572\" points=\"242,-187 21,-187 21,-104 242,-104 242,-187\" stroke=\"#000000\"/>\n<text fill=\"#000000\" font-family=\"Times,serif\" font-size=\"14.00\" text-anchor=\"middle\" x=\"131.5\" y=\"-171.8\">default payment next month &lt;= 0.5</text>\n<text fill=\"#000000\" font-family=\"Times,serif\" font-size=\"14.00\" text-anchor=\"middle\" x=\"131.5\" y=\"-156.8\">entropy = 0.765</text>\n<text fill=\"#000000\" font-family=\"Times,serif\" font-size=\"14.00\" text-anchor=\"middle\" x=\"131.5\" y=\"-141.8\">samples = 24000</text>\n<text fill=\"#000000\" font-family=\"Times,serif\" font-size=\"14.00\" text-anchor=\"middle\" x=\"131.5\" y=\"-126.8\">value = [18661, 5339]</text>\n<text fill=\"#000000\" font-family=\"Times,serif\" font-size=\"14.00\" text-anchor=\"middle\" x=\"131.5\" y=\"-111.8\">class = 0</text>\n</g>\n<!-- 1 -->\n<g class=\"node\" id=\"node2\">\n<title>1</title>\n<polygon fill=\"#e58139\" points=\"125,-68 0,-68 0,0 125,0 125,-68\" stroke=\"#000000\"/>\n<text fill=\"#000000\" font-family=\"Times,serif\" font-size=\"14.00\" text-anchor=\"middle\" x=\"62.5\" y=\"-52.8\">entropy = 0.0</text>\n<text fill=\"#000000\" font-family=\"Times,serif\" font-size=\"14.00\" text-anchor=\"middle\" x=\"62.5\" y=\"-37.8\">samples = 18661</text>\n<text fill=\"#000000\" font-family=\"Times,serif\" font-size=\"14.00\" text-anchor=\"middle\" x=\"62.5\" y=\"-22.8\">value = [18661, 0]</text>\n<text fill=\"#000000\" font-family=\"Times,serif\" font-size=\"14.00\" text-anchor=\"middle\" x=\"62.5\" y=\"-7.8\">class = 0</text>\n</g>\n<!-- 0&#45;&gt;1 -->\n<g class=\"edge\" id=\"edge1\">\n<title>0-&gt;1</title>\n<path d=\"M105.8069,-103.9815C100.3469,-95.1585 94.5716,-85.8258 89.0793,-76.9506\" fill=\"none\" stroke=\"#000000\"/>\n<polygon fill=\"#000000\" points=\"91.942,-74.9254 83.7035,-68.2637 85.9896,-78.609 91.942,-74.9254\" stroke=\"#000000\"/>\n<text fill=\"#000000\" font-family=\"Times,serif\" font-size=\"14.00\" text-anchor=\"middle\" x=\"77.9738\" y=\"-88.8982\">True</text>\n</g>\n<!-- 2 -->\n<g class=\"node\" id=\"node3\">\n<title>2</title>\n<polygon fill=\"#399de5\" points=\"260,-68 143,-68 143,0 260,0 260,-68\" stroke=\"#000000\"/>\n<text fill=\"#000000\" font-family=\"Times,serif\" font-size=\"14.00\" text-anchor=\"middle\" x=\"201.5\" y=\"-52.8\">entropy = 0.0</text>\n<text fill=\"#000000\" font-family=\"Times,serif\" font-size=\"14.00\" text-anchor=\"middle\" x=\"201.5\" y=\"-37.8\">samples = 5339</text>\n<text fill=\"#000000\" font-family=\"Times,serif\" font-size=\"14.00\" text-anchor=\"middle\" x=\"201.5\" y=\"-22.8\">value = [0, 5339]</text>\n<text fill=\"#000000\" font-family=\"Times,serif\" font-size=\"14.00\" text-anchor=\"middle\" x=\"201.5\" y=\"-7.8\">class = 1</text>\n</g>\n<!-- 0&#45;&gt;2 -->\n<g class=\"edge\" id=\"edge2\">\n<title>0-&gt;2</title>\n<path d=\"M157.5654,-103.9815C163.1045,-95.1585 168.9636,-85.8258 174.5355,-76.9506\" fill=\"none\" stroke=\"#000000\"/>\n<polygon fill=\"#000000\" points=\"177.6363,-78.594 179.9892,-68.2637 171.7078,-74.872 177.6363,-78.594\" stroke=\"#000000\"/>\n<text fill=\"#000000\" font-family=\"Times,serif\" font-size=\"14.00\" text-anchor=\"middle\" x=\"185.5616\" y=\"-88.9347\">False</text>\n</g>\n</g>\n</svg>"
          },
          "metadata": {
            "tags": []
          }
        }
      ]
    },
    {
      "cell_type": "code",
      "metadata": {
        "id": "kMJrIa_Ts2XV"
      },
      "source": [
        "from sklearn.ensemble import RandomForestClassifier"
      ],
      "execution_count": 45,
      "outputs": []
    },
    {
      "cell_type": "code",
      "metadata": {
        "id": "dnaRiCMhtzU8"
      },
      "source": [
        "forest=RandomForestClassifier()"
      ],
      "execution_count": 46,
      "outputs": []
    },
    {
      "cell_type": "code",
      "metadata": {
        "colab": {
          "base_uri": "https://localhost:8080/"
        },
        "id": "9E15NxMPt57R",
        "outputId": "1d5a1cff-f7b0-4a2b-c52c-86763f5981f0"
      },
      "source": [
        "forest.fit(Xtrain,Ytrain)"
      ],
      "execution_count": 47,
      "outputs": [
        {
          "output_type": "execute_result",
          "data": {
            "text/plain": [
              "RandomForestClassifier(bootstrap=True, ccp_alpha=0.0, class_weight=None,\n",
              "                       criterion='gini', max_depth=None, max_features='auto',\n",
              "                       max_leaf_nodes=None, max_samples=None,\n",
              "                       min_impurity_decrease=0.0, min_impurity_split=None,\n",
              "                       min_samples_leaf=1, min_samples_split=2,\n",
              "                       min_weight_fraction_leaf=0.0, n_estimators=100,\n",
              "                       n_jobs=None, oob_score=False, random_state=None,\n",
              "                       verbose=0, warm_start=False)"
            ]
          },
          "metadata": {
            "tags": []
          },
          "execution_count": 47
        }
      ]
    },
    {
      "cell_type": "code",
      "metadata": {
        "colab": {
          "base_uri": "https://localhost:8080/"
        },
        "id": "0_7xQnMTuNNq",
        "outputId": "9623a383-b8c4-4772-b905-23ffef7b0a97"
      },
      "source": [
        "accuracy_score(Ytrain,forest.predict(Xtrain))"
      ],
      "execution_count": 48,
      "outputs": [
        {
          "output_type": "execute_result",
          "data": {
            "text/plain": [
              "1.0"
            ]
          },
          "metadata": {
            "tags": []
          },
          "execution_count": 48
        }
      ]
    },
    {
      "cell_type": "code",
      "metadata": {
        "colab": {
          "base_uri": "https://localhost:8080/"
        },
        "id": "DQC75Q1XuWGP",
        "outputId": "a7fcdd9f-18a7-486b-84de-1324d2cc717d"
      },
      "source": [
        "accuracy_score(Ytest,forest.predict(Xtest))"
      ],
      "execution_count": 49,
      "outputs": [
        {
          "output_type": "execute_result",
          "data": {
            "text/plain": [
              "1.0"
            ]
          },
          "metadata": {
            "tags": []
          },
          "execution_count": 49
        }
      ]
    },
    {
      "cell_type": "code",
      "metadata": {
        "id": "JTSrPJZIubdk"
      },
      "source": [
        "from sklearn.neighbors import KNeighborsClassifier"
      ],
      "execution_count": 50,
      "outputs": []
    },
    {
      "cell_type": "code",
      "metadata": {
        "id": "mO7-0mnVCRnl"
      },
      "source": [
        "neighbors = np.arange(1,9)\n",
        "train_accuracy =np.empty(len(neighbors))\n",
        "test_accuracy = np.empty(len(neighbors))\n",
        "\n",
        "for i,k in enumerate(neighbors):\n",
        "    # Setup a knn classifier with k neighbors\n",
        "    knn = KNeighborsClassifier(n_neighbors=k)\n",
        "    \n",
        "    # Fit the model\n",
        "    knn.fit(Xtrain, Ytrain)\n",
        "    \n",
        "    # Compute accuracy on the training set\n",
        "    train_accuracy[i] = knn.score(Xtrain, Ytrain)\n",
        "    \n",
        "    # Compute accuracy on the test set\n",
        "    test_accuracy[i] = knn.score(Xtest, Ytest) "
      ],
      "execution_count": 51,
      "outputs": []
    },
    {
      "cell_type": "code",
      "metadata": {
        "colab": {
          "base_uri": "https://localhost:8080/",
          "height": 295
        },
        "id": "HXSj7odoCp3z",
        "outputId": "e99afa40-9583-484a-c0c9-587cb858cabb"
      },
      "source": [
        "plt.title('k-NN Varying number of neighbors')\n",
        "plt.plot(neighbors, test_accuracy, label='Testing Accuracy')\n",
        "plt.plot(neighbors, train_accuracy, label='Training accuracy')\n",
        "plt.legend()\n",
        "plt.xlabel('Number of neighbors')\n",
        "plt.ylabel('Accuracy')\n",
        "plt.show()"
      ],
      "execution_count": 52,
      "outputs": [
        {
          "output_type": "display_data",
          "data": {
            "image/png": "[encoded data removed]",
            "text/plain": [
              "<Figure size 432x288 with 1 Axes>"
            ]
          },
          "metadata": {
            "tags": [],
            "needs_background": "light"
          }
        }
      ]
    },
    {
      "cell_type": "code",
      "metadata": {
        "colab": {
          "base_uri": "https://localhost:8080/"
        },
        "id": "sqkDW7KsC0Db",
        "outputId": "95e865a1-1b4e-47a9-a739-9031d28334f5"
      },
      "source": [
        "knn = KNeighborsClassifier(n_neighbors=7)\n",
        "knn.fit(Xtrain,Ytrain)"
      ],
      "execution_count": 53,
      "outputs": [
        {
          "output_type": "execute_result",
          "data": {
            "text/plain": [
              "KNeighborsClassifier(algorithm='auto', leaf_size=30, metric='minkowski',\n",
              "                     metric_params=None, n_jobs=None, n_neighbors=7, p=2,\n",
              "                     weights='uniform')"
            ]
          },
          "metadata": {
            "tags": []
          },
          "execution_count": 53
        }
      ]
    },
    {
      "cell_type": "code",
      "metadata": {
        "colab": {
          "base_uri": "https://localhost:8080/"
        },
        "id": "IZwNcg4ADHGs",
        "outputId": "2936597c-5279-4328-d9f6-da28e58392f0"
      },
      "source": [
        "knn.score(Xtest,Ytest)"
      ],
      "execution_count": 54,
      "outputs": [
        {
          "output_type": "execute_result",
          "data": {
            "text/plain": [
              "1.0"
            ]
          },
          "metadata": {
            "tags": []
          },
          "execution_count": 54
        }
      ]
    },
    {
      "cell_type": "code",
      "metadata": {
        "id": "mpkuEjP9DdDW"
      },
      "source": [
        "from sklearn.metrics import confusion_matrix,roc_curve"
      ],
      "execution_count": 55,
      "outputs": []
    },
    {
      "cell_type": "code",
      "metadata": {
        "id": "-c5ySArHDgGT"
      },
      "source": [
        "y_pred = knn.predict(Xtest)"
      ],
      "execution_count": 56,
      "outputs": []
    },
    {
      "cell_type": "code",
      "metadata": {
        "id": "TqNA3FqGDstt"
      },
      "source": [
        "y_pred_proba = knn.predict_proba(Xtest)[:,1]"
      ],
      "execution_count": 57,
      "outputs": []
    },
    {
      "cell_type": "code",
      "metadata": {
        "id": "dRtjTWHmDMxN"
      },
      "source": [
        "fpr, tpr, thresholds = roc_curve(Ytest, y_pred_proba)"
      ],
      "execution_count": 58,
      "outputs": []
    },
    {
      "cell_type": "code",
      "metadata": {
        "colab": {
          "base_uri": "https://localhost:8080/",
          "height": 295
        },
        "id": "EResXmQ3DT0p",
        "outputId": "ff0cbb35-4431-4957-f1c1-e65fca9265e7"
      },
      "source": [
        "plt.plot([0,1],[0,1],'k--')\n",
        "plt.plot(fpr,tpr, label='Knn')\n",
        "plt.xlabel('fpr')\n",
        "plt.ylabel('tpr')\n",
        "plt.title('Knn(n_neighbors=7) ROC curve')\n",
        "plt.show()"
      ],
      "execution_count": 59,
      "outputs": [
        {
          "output_type": "display_data",
          "data": {
            "image/png": "[encoded data removed]",
            "text/plain": [
              "<Figure size 432x288 with 1 Axes>"
            ]
          },
          "metadata": {
            "tags": [],
            "needs_background": "light"
          }
        }
      ]
    },
    {
      "cell_type": "code",
      "metadata": {
        "colab": {
          "base_uri": "https://localhost:8080/"
        },
        "id": "0fsobuMpDz4Y",
        "outputId": "12ad3b34-18be-49e6-f7b0-f700f906f0b5"
      },
      "source": [
        "from sklearn import svm\n",
        "clf = svm.SVC()\n",
        "clf.fit(Xtrain, Ytrain)"
      ],
      "execution_count": 60,
      "outputs": [
        {
          "output_type": "execute_result",
          "data": {
            "text/plain": [
              "SVC(C=1.0, break_ties=False, cache_size=200, class_weight=None, coef0=0.0,\n",
              "    decision_function_shape='ovr', degree=3, gamma='scale', kernel='rbf',\n",
              "    max_iter=-1, probability=False, random_state=None, shrinking=True,\n",
              "    tol=0.001, verbose=False)"
            ]
          },
          "metadata": {
            "tags": []
          },
          "execution_count": 60
        }
      ]
    },
    {
      "cell_type": "code",
      "metadata": {
        "id": "QAvx1K-mHYS0",
        "colab": {
          "base_uri": "https://localhost:8080/"
        },
        "outputId": "8783540e-1d39-4dc6-fe4f-e2b78f8ba381"
      },
      "source": [
        "accuracy_score(Ytrain,clf.predict(Xtrain))"
      ],
      "execution_count": 61,
      "outputs": [
        {
          "output_type": "execute_result",
          "data": {
            "text/plain": [
              "1.0"
            ]
          },
          "metadata": {
            "tags": []
          },
          "execution_count": 61
        }
      ]
    },
    {
      "cell_type": "code",
      "metadata": {
        "id": "dnRDI7C8Hiq3",
        "colab": {
          "base_uri": "https://localhost:8080/"
        },
        "outputId": "9f44469a-d55b-4d8d-fdce-1ab511d4df90"
      },
      "source": [
        "from sklearn.naive_bayes import GaussianNB\n",
        "classifier = GaussianNB()\n",
        "classifier.fit(Xtrain, Ytrain)"
      ],
      "execution_count": 121,
      "outputs": [
        {
          "output_type": "execute_result",
          "data": {
            "text/plain": [
              "GaussianNB(priors=None, var_smoothing=1e-09)"
            ]
          },
          "metadata": {
            "tags": []
          },
          "execution_count": 121
        }
      ]
    },
    {
      "cell_type": "code",
      "metadata": {
        "id": "Ox1IjK47eb5u"
      },
      "source": [
        "y_pred  =  classifier.predict(Xtest)"
      ],
      "execution_count": 123,
      "outputs": []
    },
    {
      "cell_type": "code",
      "metadata": {
        "id": "sUuA5jU7ehbs"
      },
      "source": [
        "from sklearn.metrics import confusion_matrix,accuracy_score\n",
        "cm = confusion_matrix(Ytest, y_pred)\n",
        "ac = accuracy_score(Ytest,y_pred)"
      ],
      "execution_count": 124,
      "outputs": []
    },
    {
      "cell_type": "code",
      "metadata": {
        "id": "FswQVj7aesFd",
        "outputId": "af58e0c5-e974-4d61-d654-34afd8685024",
        "colab": {
          "base_uri": "https://localhost:8080/"
        }
      },
      "source": [
        "ac"
      ],
      "execution_count": 125,
      "outputs": [
        {
          "output_type": "execute_result",
          "data": {
            "text/plain": [
              "1.0"
            ]
          },
          "metadata": {
            "tags": []
          },
          "execution_count": 125
        }
      ]
    },
    {
      "cell_type": "code",
      "metadata": {
        "id": "0UKW5BgUeuoZ",
        "outputId": "908e8c1a-3408-458a-d907-bf0a4c547f51",
        "colab": {
          "base_uri": "https://localhost:8080/"
        }
      },
      "source": [
        "cm"
      ],
      "execution_count": 126,
      "outputs": [
        {
          "output_type": "execute_result",
          "data": {
            "text/plain": [
              "array([[4703,    0],\n",
              "       [   0, 1297]])"
            ]
          },
          "metadata": {
            "tags": []
          },
          "execution_count": 126
        }
      ]
    },
    {
      "cell_type": "code",
      "metadata": {
        "id": "tTntkeYbewbb"
      },
      "source": [
        ""
      ],
      "execution_count": null,
      "outputs": []
    }
  ]
}